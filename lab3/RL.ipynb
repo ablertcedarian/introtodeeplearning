{
  "cells": [
    {
      "cell_type": "markdown",
      "metadata": {
        "id": "view-in-github",
        "colab_type": "text"
      },
      "source": [
        "<a href=\"https://colab.research.google.com/github/ablertcedarian/introtodeeplearning/blob/master/lab3/RL.ipynb\" target=\"_parent\"><img src=\"https://colab.research.google.com/assets/colab-badge.svg\" alt=\"Open In Colab\"/></a>"
      ]
    },
    {
      "cell_type": "markdown",
      "metadata": {
        "id": "jrI6q7RmWQam"
      },
      "source": [
        "<table align=\"center\">\n",
        "  <td align=\"center\"><a target=\"_blank\" href=\"http://introtodeeplearning.com\">\n",
        "        <img src=\"https://i.ibb.co/Jr88sn2/mit.png\" style=\"padding-bottom:5px;\" />\n",
        "      Visit MIT Deep Learning</a></td>\n",
        "  <td align=\"center\"><a target=\"_blank\" href=\"https://colab.research.google.com/github/aamini/introtodeeplearning/blob/master/lab3/RL.ipynb\">\n",
        "        <img src=\"https://i.ibb.co/2P3SLwK/colab.png\"  style=\"padding-bottom:5px;\" />Run in Google Colab</a></td>\n",
        "  <td align=\"center\"><a target=\"_blank\" href=\"https://github.com/aamini/introtodeeplearning/blob/master/lab3/RL.ipynb\">\n",
        "        <img src=\"https://i.ibb.co/xfJbPmL/github.png\"  height=\"70px\" style=\"padding-bottom:5px;\"  />View Source on GitHub</a></td>\n",
        "</table>\n",
        "\n",
        "# Copyright Information"
      ]
    },
    {
      "cell_type": "code",
      "execution_count": null,
      "metadata": {
        "id": "wkd375upWYok"
      },
      "outputs": [],
      "source": [
        "# Copyright 2022 MIT 6.S191 Introduction to Deep Learning. All Rights Reserved.\n",
        "# \n",
        "# Licensed under the MIT License. You may not use this file except in compliance\n",
        "# with the License. Use and/or modification of this code outside of 6.S191 must\n",
        "# reference:\n",
        "#\n",
        "# © MIT 6.S191: Introduction to Deep Learning\n",
        "# http://introtodeeplearning.com\n",
        "#"
      ]
    },
    {
      "cell_type": "markdown",
      "metadata": {
        "id": "WoXYKhfZMHiw"
      },
      "source": [
        "# Laboratory 3: Reinforcement Learning\n",
        "\n",
        "Reinforcement learning (RL) is a subset of machine learning which poses learning problems as interactions between agents and environments. It often assumes agents have no prior knowledge of a world, so they must learn to navigate environments by optimizing a reward function. Within an environment, an agent can take certain actions and receive feedback, in the form of positive or negative rewards, with respect to their decision. As such, an agent's feedback loop is somewhat akin to the idea of \"trial and error\", or the manner in which a child might learn to distinguish between \"good\" and \"bad\" actions.\n",
        "\n",
        "In practical terms, our RL agent will interact with the environment by taking an action at each timestep, receiving a corresponding reward, and updating its state according to what it has \"learned\".  \n",
        "\n",
        "![alt text](https://www.kdnuggets.com/images/reinforcement-learning-fig1-700.jpg)\n",
        "\n",
        "While the ultimate goal of reinforcement learning is to teach agents to act in the real, physical world, simulated environments -- like games and simulation engines -- provide a convenient proving ground for developing RL algorithms and agents.\n",
        "\n",
        "In previous labs, we have explored both supervised (with LSTMs, CNNs) and unsupervised / semi-supervised (with VAEs) learning tasks. Reinforcement learning is fundamentally different, in that we are training a deep learning algorithm to govern the actions of our RL agent, that is trying, within its environment, to find the optimal way to achieve a goal. The goal of training an RL agent is to determine the best next step to take to earn the greatest final payoff or return. In this lab, we focus on building a reinforcement learning algorithm to master two different environments with varying complexity. \n",
        "\n",
        "1.   **Cartpole**:   Balance a pole, protruding from a cart, in an upright position by only moving the base left or right. Environment with a low-dimensional observation space.\n",
        "2.   [**Driving in VISTA**](https://www.mit.edu/~amini/pubs/pdf/learning-in-simulation-vista.pdf): Learn a driving control policy for an autonomous vehicle, end-to-end from raw pixel inputs and entirely in the data-driven simulation environment of VISTA. Environment with a high-dimensional observation space -- learning directly from raw pixels.\n",
        "\n",
        "Let's get started! First we'll import TensorFlow, the course package, and some dependencies.\n"
      ]
    },
    {
      "cell_type": "code",
      "execution_count": 1,
      "metadata": {
        "id": "KR9QHuleJ9Bh",
        "outputId": "66aec41b-2b9a-41d3-f7e4-ac1d08030017",
        "colab": {
          "base_uri": "https://localhost:8080/"
        }
      },
      "outputs": [
        {
          "output_type": "stream",
          "name": "stdout",
          "text": [
            "Installing MIT deep learning package... Done\n"
          ]
        }
      ],
      "source": [
        "# Import Tensorflow 2.0\n",
        "%tensorflow_version 2.x\n",
        "import tensorflow as tf\n",
        "\n",
        "gpus = tf.config.experimental.list_physical_devices('GPU')\n",
        "if gpus:\n",
        "    for gpu in gpus:\n",
        "        tf.config.experimental.set_memory_growth(gpu, True)\n",
        "\n",
        "# Download and import the MIT 6.S191 package\n",
        "!printf \"Installing MIT deep learning package... \"\n",
        "!pip install --upgrade git+https://github.com/aamini/introtodeeplearning.git &> /dev/null\n",
        "!echo \"Done\""
      ]
    },
    {
      "cell_type": "code",
      "execution_count": 2,
      "metadata": {
        "id": "EvdePP-VyVWp"
      },
      "outputs": [],
      "source": [
        "#Install some dependencies for visualizing the agents\n",
        "!apt-get install -y xvfb python-opengl x11-utils &> /dev/null\n",
        "!pip install gym pyvirtualdisplay scikit-video ffio pyrender &> /dev/null\n",
        "!pip install tensorflow_probability==0.12.0 &> /dev/null\n",
        "import os\n",
        "os.environ['PYOPENGL_PLATFORM'] = 'egl'\n",
        "\n",
        "import numpy as np\n",
        "import matplotlib, cv2\n",
        "import matplotlib.pyplot as plt\n",
        "import base64, io, os, time, gym\n",
        "import IPython, functools\n",
        "import time\n",
        "from tqdm import tqdm\n",
        "import tensorflow_probability as tfp\n",
        "\n",
        "import mitdeeplearning as mdl"
      ]
    },
    {
      "cell_type": "markdown",
      "metadata": {
        "id": "zmrHSiXKTXTY"
      },
      "source": [
        "Before we dive in, let's take a step back and outline our approach, which is generally applicable to reinforcement learning problems in general:\n",
        "\n",
        "1. **Initialize our environment and our agent**: here we will describe the different observations and actions the agent can make in the environemnt.\n",
        "2. **Define our agent's memory**: this will enable the agent to remember its past actions, observations, and rewards.\n",
        "3. **Define a reward function**: describes the reward associated with an action or sequence of actions.\n",
        "4. **Define the learning algorithm**: this will be used to reinforce the agent's good behaviors and discourage bad behaviors.\n"
      ]
    },
    {
      "cell_type": "markdown",
      "metadata": {
        "id": "UT7YL8KBJIIc"
      },
      "source": [
        "# Part 1: Cartpole\n",
        "\n",
        "## 3.1 Define the Cartpole environment and agent\n",
        "\n",
        "### Environment \n",
        "\n",
        "In order to model the environment for the Cartpole task, we'll be using a toolkit developed by OpenAI called [OpenAI Gym](https://gym.openai.com/). It provides several pre-defined environments for training and testing reinforcement learning agents, including those for classic physics control tasks, Atari video games, and robotic simulations. To access the Cartpole environment, we can use `env = gym.make(\"CartPole-v0\")`, which we gained access to when we imported the `gym` package. We can instantiate different [environments](https://gym.openai.com/envs/#classic_control) by passing the enivronment name to the `make` function.\n",
        "\n",
        "One issue we might experience when developing RL algorithms is that many aspects of the learning process are inherently random: initializing game states, changes in the environment, and the agent's actions. As such, it can be helpful to set a initial \"seed\" for the environment to ensure some level of reproducibility. Much like you might use `numpy.random.seed`, we can call the comparable function in gym, `seed`, with our defined environment to ensure the environment's random variables are initialized the same each time."
      ]
    },
    {
      "cell_type": "code",
      "execution_count": 3,
      "metadata": {
        "id": "quv9SC0iIYFm",
        "outputId": "0dc511de-0a4d-4f23-d449-9c98f6042b2c",
        "colab": {
          "base_uri": "https://localhost:8080/"
        }
      },
      "outputs": [
        {
          "output_type": "execute_result",
          "data": {
            "text/plain": [
              "[1]"
            ]
          },
          "metadata": {},
          "execution_count": 3
        }
      ],
      "source": [
        "### Instantiate the Cartpole environment ###\n",
        "\n",
        "env = gym.make(\"CartPole-v1\")\n",
        "env.seed(1)"
      ]
    },
    {
      "cell_type": "markdown",
      "metadata": {
        "id": "mhEITUcKK455"
      },
      "source": [
        "In Cartpole, a pole is attached by an un-actuated joint to a cart, which moves along a frictionless track. The pole starts upright, and the goal is to prevent it from falling over. The system is controlled by applying a force of +1 or -1 to the cart. A reward of +1 is provided for every timestep that the pole remains upright. The episode ends when the pole is more than 15 degrees from vertical, or the cart moves more than 2.4 units from the center of the track. A visual summary of the cartpole environment is depicted below:\n",
        "\n",
        "<img width=\"400px\" src=\"https://danielpiedrahita.files.wordpress.com/2017/02/cart-pole.png\"></img>\n",
        "\n",
        "Given this setup for the environment and the objective of the game, we can think about: 1) what observations help define the environment's state; 2) what actions the agent can take. \n",
        "\n",
        "First, let's consider the observation space. In this Cartpole environment our observations are:\n",
        "\n",
        "1. Cart position\n",
        "2. Cart velocity\n",
        "3. Pole angle\n",
        "4. Pole rotation rate\n",
        "\n",
        "We can confirm the size of the space by querying the environment's observation space:\n"
      ]
    },
    {
      "cell_type": "code",
      "execution_count": 4,
      "metadata": {
        "id": "UVJaEcbdIX82",
        "outputId": "30d16384-2968-4d5d-c359-e698e4ae3759",
        "colab": {
          "base_uri": "https://localhost:8080/"
        }
      },
      "outputs": [
        {
          "output_type": "stream",
          "name": "stdout",
          "text": [
            "Environment has observation space = Box(-3.4028234663852886e+38, 3.4028234663852886e+38, (4,), float32)\n"
          ]
        }
      ],
      "source": [
        "n_observations = env.observation_space\n",
        "print(\"Environment has observation space =\", n_observations)"
      ]
    },
    {
      "cell_type": "markdown",
      "metadata": {
        "id": "ZibGgjrALgPM"
      },
      "source": [
        "Second, we consider the action space. At every time step, the agent can move either right or left. Again we can confirm the size of the action space by querying the environment:"
      ]
    },
    {
      "cell_type": "code",
      "execution_count": 5,
      "metadata": {
        "id": "qc9SIPxBIXrm",
        "outputId": "4aa06d94-8cff-495d-a542-09ef076804bf",
        "colab": {
          "base_uri": "https://localhost:8080/"
        }
      },
      "outputs": [
        {
          "output_type": "stream",
          "name": "stdout",
          "text": [
            "Number of possible actions that the agent can choose from = 2\n"
          ]
        }
      ],
      "source": [
        "n_actions = env.action_space.n\n",
        "print(\"Number of possible actions that the agent can choose from =\", n_actions)"
      ]
    },
    {
      "cell_type": "markdown",
      "metadata": {
        "id": "pPfHME8aRKkb"
      },
      "source": [
        "### Cartpole agent\n",
        "\n",
        "Now that we have instantiated the environment and understood the dimensionality of the observation and action spaces, we are ready to define our agent. In deep reinforcement learning, a deep neural network defines the agent. This network will take as input an observation of the environment and output the probability of taking each of the possible actions. Since Cartpole is defined by a low-dimensional observation space, a simple feed-forward neural network should work well for our agent. We will define this using the `Sequential` API.\n"
      ]
    },
    {
      "cell_type": "code",
      "execution_count": 7,
      "metadata": {
        "id": "W-o_XK4oQ4eu"
      },
      "outputs": [],
      "source": [
        "### Define the Cartpole agent ###\n",
        "\n",
        "# Defines a feed-forward neural network\n",
        "def create_cartpole_model():\n",
        "    model = tf.keras.models.Sequential([\n",
        "        # First Dense layer\n",
        "        tf.keras.layers.Dense(units=32, activation='relu'),\n",
        "        \n",
        "        # TODO: Define the last Dense layer, which will provide the network's output.\n",
        "        # Think about the space the agent needs to act in!\n",
        "        # ['''TODO''' Dense layer to output action probabilities]\n",
        "        tf.keras.layers.Dense(units=n_actions, activation=None) \n",
        "    ])\n",
        "    return model\n",
        "\n",
        "cartpole_model = create_cartpole_model()"
      ]
    },
    {
      "cell_type": "markdown",
      "metadata": {
        "id": "d5D5NSIYS2IW"
      },
      "source": [
        "Now that we have defined the core network architecture, we will define an *action function* that executes a forward pass through the network, given a set of observations, and samples from the output. This sampling from the output probabilities will be used to select the next action for the agent. We will also add support so that the `choose_action` function can handle either a single observation or a batch of observations.\n",
        "\n",
        "**Critically, this action function is totally general -- we will use this function for learning control algorithms for Cartpole, but it is applicable to other RL tasks, as well!**"
      ]
    },
    {
      "cell_type": "code",
      "execution_count": 9,
      "metadata": {
        "id": "E_vVZRr8Q4R_"
      },
      "outputs": [],
      "source": [
        "### Define the agent's action function ###\n",
        "\n",
        "# Function that takes observations as input, executes a forward pass through model, \n",
        "#   and outputs a sampled action.\n",
        "# Arguments:\n",
        "#   model: the network that defines our agent\n",
        "#   observation: observation(s) which is/are fed as input to the model\n",
        "#   single: flag as to whether we are handling a single observation or batch of\n",
        "#     observations, provided as an np.array\n",
        "# Returns:\n",
        "#   action: choice of agent action\n",
        "def choose_action(model, observation, single=True):\n",
        "    # add batch dimension to the observation if only a single example was provided\n",
        "    observation = np.expand_dims(observation, axis=0) if single else observation\n",
        "\n",
        "    '''TODO: feed the observations through the model to predict the log probabilities of each possible action.'''\n",
        "    logits = model.predict(observation)\n",
        "\n",
        "    '''TODO: Choose an action from the categorical distribution defined by the log \n",
        "       probabilities of each possible action.'''\n",
        "    # action = ['''TODO''']\n",
        "    action = tf.random.categorical(logits, 1)\n",
        "\n",
        "    action = action.numpy().flatten()\n",
        "\n",
        "    return action[0] if single else action"
      ]
    },
    {
      "cell_type": "markdown",
      "metadata": {
        "id": "_tR9uAWcTnkr"
      },
      "source": [
        "## 3.2 Define the agent's memory\n",
        "\n",
        "Now that we have instantiated the environment and defined the agent network architecture and action function, we are ready to move on to the next step in our RL workflow:\n",
        "1. **Initialize our environment and our agent**: here we will describe the different observations and actions the agent can make in the environemnt.\n",
        "2. **Define our agent's memory**: this will enable the agent to remember its past actions, observations, and rewards.\n",
        "3. **Define the learning algorithm**: this will be used to reinforce the agent's good behaviors and discourage bad behaviors.\n",
        "\n",
        "In reinforcement learning, training occurs alongside the agent's acting in the environment; an *episode* refers to a sequence of actions that ends in some terminal state, such as the pole falling down or the cart crashing. The agent will need to remember all of its observations and actions, such that once an episode ends, it can learn to \"reinforce\" the good actions and punish the undesirable actions via training. Our first step is to define a simple `Memory` buffer that contains the agent's observations, actions, and received rewards from a given episode. We will also add support to combine a list of `Memory` objects into a single `Memory`. This will be very useful for batching, which will help you accelerate training later on in the lab.\n",
        "\n",
        "**Once again, note the modularity of this memory buffer -- it can and will be applied to other RL tasks as well!**"
      ]
    },
    {
      "cell_type": "code",
      "execution_count": 10,
      "metadata": {
        "id": "8MM6JwXVQ4JG"
      },
      "outputs": [],
      "source": [
        "### Agent Memory ###\n",
        "\n",
        "class Memory:\n",
        "    def __init__(self): \n",
        "        self.clear()\n",
        "\n",
        "  # Resets/restarts the memory buffer\n",
        "    def clear(self): \n",
        "        self.observations = []\n",
        "        self.actions = []\n",
        "        self.rewards = []\n",
        "\n",
        "  # Add observations, actions, rewards to memory\n",
        "    def add_to_memory(self, new_observation, new_action, new_reward): \n",
        "        self.observations.append(new_observation)\n",
        "        \n",
        "        '''TODO: update the list of actions with new action'''\n",
        "        # ['''TODO''']\n",
        "        self.actions.append(new_action)\n",
        "\n",
        "        '''TODO: update the list of rewards with new reward'''\n",
        "        # ['''TODO''']\n",
        "        self.rewards.append(new_reward)\n",
        "\n",
        "    def __len__(self):\n",
        "        return len(self.actions)\n",
        "\n",
        "# Instantiate a single Memory buffer\n",
        "memory = Memory()"
      ]
    },
    {
      "cell_type": "markdown",
      "metadata": {
        "id": "D4YhtPaUVj5m"
      },
      "source": [
        "## 3.3 Reward function\n",
        "\n",
        "We're almost ready to begin the learning algorithm for our agent! The next step is to compute the rewards of our agent as it acts in the environment. Since we (and the agent) is uncertain about if and when the game or task will end (i.e., when the pole will fall), it is useful to emphasize getting rewards **now** rather than later in the future -- this is the idea of discounting. This is a similar concept to discounting money in the case of interest. Recall from lecture, we use reward discount to give more preference at getting rewards now rather than later in the future. The idea of discounting rewards is similar to discounting money in the case of interest.\n",
        "\n",
        "To compute the expected cumulative reward, known as the **return**, at a given timestep in a learning episode, we sum the discounted rewards expected at that time step $t$, within a learning episode, and projecting into the future. We define the return (cumulative reward) at a time step $t$, $R_{t}$ as:\n",
        "\n",
        ">$R_{t}=\\sum_{k=0}^\\infty\\gamma^kr_{t+k}$\n",
        "\n",
        "where  $0 < \\gamma < 1$ is the discount factor and $r_{t}$ is the reward at time step $t$, and the index $k$ increments projection into the future within a single learning episode. Intuitively, you can think of this function as depreciating any rewards received at later time steps, which will force the agent prioritize getting rewards now. Since we can't extend episodes to infinity, in practice the computation will be limited to the number of timesteps in an episode -- after that the reward is assumed to be zero.\n",
        "\n",
        "Take note of the form of this sum -- we'll have to be clever about how we implement this function. Specifically, we'll need to initialize an array of zeros, with length of the number of time steps, and fill it with the real discounted reward values as we loop through the rewards from the episode, which will have been saved in the agents memory. What we ultimately care about is which actions are better relative to other actions taken in that episode -- so, we'll normalize our computed rewards, using the mean and standard deviation of the rewards across the learning episode.\n",
        "\n",
        "We will use this definition of the reward function in both parts of the lab so make sure you have it executed!\n"
      ]
    },
    {
      "cell_type": "code",
      "execution_count": 11,
      "metadata": {
        "id": "5_Q2OFYtQ32X"
      },
      "outputs": [],
      "source": [
        "### Reward function ###\n",
        "\n",
        "# Helper function that normalizes an np.array x\n",
        "def normalize(x):\n",
        "    x -= np.mean(x)\n",
        "    x /= np.std(x)\n",
        "    return x.astype(np.float32)\n",
        "\n",
        "# Compute normalized, discounted, cumulative rewards (i.e., return)\n",
        "# Arguments:\n",
        "#   rewards: reward at timesteps in episode\n",
        "#   gamma: discounting factor\n",
        "# Returns:\n",
        "#   normalized discounted reward\n",
        "def discount_rewards(rewards, gamma=0.95): \n",
        "    discounted_rewards = np.zeros_like(rewards)\n",
        "    R = 0\n",
        "    for t in reversed(range(0, len(rewards))):\n",
        "        # update the total discounted reward\n",
        "        R = R * gamma + rewards[t]\n",
        "        discounted_rewards[t] = R\n",
        "      \n",
        "    return normalize(discounted_rewards)"
      ]
    },
    {
      "cell_type": "markdown",
      "metadata": {
        "id": "QzbY-mjGYcmt"
      },
      "source": [
        "## 3.4 Learning algorithm\n",
        "\n",
        "Now we can start to define the learing algorithm which will be used to reinforce good behaviors of the agent and discourage bad behaviours. In this lab, we will focus on *policy gradient* methods which aim to **maximize** the likelihood of actions that result in large rewards. Equivalently, this means that we want to **minimize** the negative likelihood of these same actions. We achieve this by simply **scaling** the probabilities by their associated rewards -- effectively amplifying the likelihood of actions that resujlt in large rewards.\n",
        "\n",
        "Since the log function is monotonically increasing, this means that minimizing **negative likelihood** is equivalent to minimizing **negative log-likelihood**.  Recall that we can easily compute the negative log-likelihood of a discrete action by evaluting its [softmax cross entropy](https://www.tensorflow.org/api_docs/python/tf/nn/sparse_softmax_cross_entropy_with_logits). Like in supervised learning, we can use stochastic gradient descent methods to achieve the desired minimization. \n",
        "\n",
        "Let's begin by defining the loss function."
      ]
    },
    {
      "cell_type": "code",
      "execution_count": 12,
      "metadata": {
        "id": "fsgZ3IDCY_Zn"
      },
      "outputs": [],
      "source": [
        "### Loss function ###\n",
        "\n",
        "# Arguments:\n",
        "#   logits: network's predictions for actions to take\n",
        "#   actions: the actions the agent took in an episode\n",
        "#   rewards: the rewards the agent received in an episode\n",
        "# Returns:\n",
        "#   loss\n",
        "def compute_loss(logits, actions, rewards): \n",
        "    '''TODO: complete the function call to compute the negative log probabilities'''\n",
        "    neg_logprob = tf.nn.sparse_softmax_cross_entropy_with_logits(\n",
        "        logits=logits, labels=actions)\n",
        "  \n",
        "    '''TODO: scale the negative log probability by the rewards'''\n",
        "    loss = tf.reduce_mean(neg_logprob*rewards)\n",
        "\n",
        "    return loss"
      ]
    },
    {
      "cell_type": "markdown",
      "metadata": {
        "id": "Rr5vQ9fqbPpp"
      },
      "source": [
        "Now let's use the loss function to define a training step of our learning algorithm. This is a very generalizable definition which we will use "
      ]
    },
    {
      "cell_type": "code",
      "execution_count": 13,
      "metadata": {
        "id": "_50ada7nbZ7L"
      },
      "outputs": [],
      "source": [
        "### Training step (forward and backpropagation) ###\n",
        "\n",
        "def train_step(model, loss_function, optimizer, observations, actions, discounted_rewards, custom_fwd_fn=None):\n",
        "    with tf.GradientTape() as tape:\n",
        "        # Forward propagate through the agent network\n",
        "        if custom_fwd_fn is not None:\n",
        "            prediction = custom_fwd_fn(observations)\n",
        "        else: \n",
        "            prediction = model(observations)\n",
        "\n",
        "        '''TODO: call the compute_loss function to compute the loss'''\n",
        "        loss = loss_function(prediction, actions, discounted_rewards)\n",
        "\n",
        "    '''TODO: run backpropagation to minimize the loss using the tape.gradient method. \n",
        "             Unlike supervised learning, RL is *extremely* noisy, so you will benefit \n",
        "             from additionally clipping your gradients to avoid falling into \n",
        "             dangerous local minima. After computing your gradients try also clipping\n",
        "             by a global normalizer. Try different clipping values, usually clipping \n",
        "             between 0.5 and 5 provides reasonable results. '''\n",
        "    grads = tape.gradient(loss, model.trainable_variables)\n",
        "\n",
        "    grads, _ = tf.clip_by_global_norm(grads, 2)\n",
        "    optimizer.apply_gradients(zip(grads, model.trainable_variables))"
      ]
    },
    {
      "cell_type": "markdown",
      "metadata": {
        "id": "XsjKXh6BcgjR"
      },
      "source": [
        "## 3.5 Run cartpole!\n",
        "\n",
        "Having had no prior knowledge of the environment, the agent will begin to learn how to balance the pole on the cart based only on the feedback received from the environment! Having defined how our agent can move, how it takes in new observations, and how it updates its state, we'll see how it gradually learns a policy of actions to optimize balancing the pole as long as possible. To do this, we'll track how the rewards evolve as a function of training -- how should the rewards change as training progresses?"
      ]
    },
    {
      "cell_type": "code",
      "execution_count": 14,
      "metadata": {
        "id": "-hZ7E6JOJ9Bn"
      },
      "outputs": [],
      "source": [
        "## Training parameters ##\n",
        "## Re-run this cell to restart training from scratch ##\n",
        "\n",
        "# TODO: Learning rate and optimizer\n",
        "learning_rate = 1e-3\n",
        "\n",
        "optimizer = tf.keras.optimizers.Adam(learning_rate)\n",
        "\n",
        "# instantiate cartpole agent\n",
        "cartpole_model = create_cartpole_model()\n",
        "\n",
        "# to track our progress\n",
        "smoothed_reward = mdl.util.LossHistory(smoothing_factor=0.95)\n",
        "plotter = mdl.util.PeriodicPlotter(sec=2, xlabel='Iterations', ylabel='Rewards')"
      ]
    },
    {
      "cell_type": "code",
      "execution_count": 15,
      "metadata": {
        "id": "XmOzc2rrcn8Q",
        "scrolled": false,
        "outputId": "6a29df2f-3f6b-4cbd-fcd5-91e3a30c3b2d",
        "colab": {
          "base_uri": "https://localhost:8080/",
          "height": 541
        }
      },
      "outputs": [
        {
          "output_type": "display_data",
          "data": {
            "text/plain": [
              "<Figure size 432x288 with 1 Axes>"
            ],
            "image/png": "[encoded data removed]"
          },
          "metadata": {}
        },
        {
          "output_type": "display_data",
          "data": {
            "text/plain": [
              "<Figure size 432x288 with 1 Axes>"
            ],
            "image/png": "[encoded data removed]"
          },
          "metadata": {
            "needs_background": "light"
          }
        }
      ],
      "source": [
        "## Cartpole training! ##\n",
        "## Note: stoping and restarting this cell will pick up training where you\n",
        "#        left off. To restart training you need to rerun the cell above as \n",
        "#        well (to re-initialize the model and optimizer)\n",
        "\n",
        "if hasattr(tqdm, '_instances'): tqdm._instances.clear() # clear if it exists\n",
        "for i_episode in range(500):\n",
        "\n",
        "    plotter.plot(smoothed_reward.get())\n",
        "    # Restart the environment\n",
        "    observation = env.reset()\n",
        "    memory.clear()\n",
        "\n",
        "    while True:\n",
        "        # using our observation, choose an action and take it in the environment\n",
        "        action = choose_action(cartpole_model, observation)\n",
        "        next_observation, reward, done, info = env.step(action)\n",
        "        # add to memory\n",
        "        memory.add_to_memory(observation, action, reward)\n",
        "\n",
        "        # is the episode over? did you crash or do so well that you're done?\n",
        "        if done:\n",
        "            # determine total reward and keep a record of this\n",
        "            total_reward = sum(memory.rewards)\n",
        "            smoothed_reward.append(total_reward)\n",
        "          \n",
        "            # initiate training - remember we don't know anything about how the \n",
        "            #   agent is doing until it has crashed!\n",
        "            g = train_step(cartpole_model, compute_loss, optimizer, \n",
        "                       observations=np.vstack(memory.observations),\n",
        "                       actions=np.array(memory.actions),\n",
        "                       discounted_rewards = discount_rewards(memory.rewards))\n",
        "          \n",
        "            # reset the memory\n",
        "            memory.clear()\n",
        "            break\n",
        "        # update our observatons\n",
        "        observation = next_observation"
      ]
    },
    {
      "cell_type": "markdown",
      "metadata": {
        "id": "mkcUtGF1VE-K"
      },
      "source": [
        "To get a sense of how our agent did, we can save a video of the trained model working on balancing the pole. Realize that this is a brand new environment that the agent has not seen before!\n",
        "\n",
        "Let's display the saved video to watch how our agent did!\n"
      ]
    },
    {
      "cell_type": "code",
      "execution_count": 16,
      "metadata": {
        "id": "PAYBkv6Zbk0J",
        "scrolled": true,
        "outputId": "4fdcd20a-a26b-4982-f2af-cbb64cf278c5",
        "colab": {
          "base_uri": "https://localhost:8080/",
          "height": 438
        }
      },
      "outputs": [
        {
          "output_type": "stream",
          "name": "stdout",
          "text": [
            "Successfully saved 160 frames into CartPole-v1.mp4!\n"
          ]
        },
        {
          "output_type": "execute_result",
          "data": {
            "text/plain": [
              "<IPython.core.display.HTML object>"
            ],
            "text/html": [
              "\n",
              "        <video controls >\n",
              "            <source src=\"data:video/mp4;base64,AAAAIGZ0eXBpc29tAAACAGlzb21pc28yYXZjMW1wNDEAAAAIZnJlZQAAQHhtZGF0AAACrQYF//+p3EXpvebZSLeWLNgg2SPu73gyNjQgLSBjb3JlIDE1MiByMjg1NCBlOWE1OTAzIC0gSC4yNjQvTVBFRy00IEFWQyBjb2RlYyAtIENvcHlsZWZ0IDIwMDMtMjAxNyAtIGh0dHA6Ly93d3cudmlkZW9sYW4ub3JnL3gyNjQuaHRtbCAtIG9wdGlvbnM6IGNhYmFjPTEgcmVmPTMgZGVibG9jaz0xOjA6MCBhbmFseXNlPTB4MToweDExMSBtZT1oZXggc3VibWU9NyBwc3k9MSBwc3lfcmQ9MS4wMDowLjAwIG1peGVkX3JlZj0xIG1lX3JhbmdlPTE2IGNocm9tYV9tZT0xIHRyZWxsaXM9MSA4eDhkY3Q9MCBjcW09MCBkZWFkem9uZT0yMSwxMSBmYXN0X3Bza2lwPTEgY2hyb21hX3FwX29mZnNldD00IHRocmVhZHM9MyBsb29rYWhlYWRfdGhyZWFkcz0xIHNsaWNlZF90aHJlYWRzPTAgbnI9MCBkZWNpbWF0ZT0xIGludGVybGFjZWQ9MCBibHVyYXlfY29tcGF0PTAgY29uc3RyYWluZWRfaW50cmE9MCBiZnJhbWVzPTMgYl9weXJhbWlkPTIgYl9hZGFwdD0xIGJfYmlhcz0wIGRpcmVjdD0xIHdlaWdodGI9MSBvcGVuX2dvcD0wIHdlaWdodHA9MiBrZXlpbnQ9MjUwIGtleWludF9taW49MjUgc2NlbmVjdXQ9NDAgaW50cmFfcmVmcmVzaD0wIHJjX2xvb2thaGVhZD00MCByYz1jcmYgbWJ0cmVlPTEgY3JmPTIzLjAgcWNvbXA9MC42MCBxcG1pbj0wIHFwbWF4PTY5IHFwc3RlcD00IGlwX3JhdGlvPTEuNDAgYXE9MToxLjAwAIAAAAJAZYiEADP//vaG+BTX9oH+T7/8I/+5H7cfWfrixkIJvrVeQ9GAAAADAAADAAADAAC+n1sPwnbepPLmUKgq0/AAAAMAAAMAAAMAERzgACVqg7Qg/wiAGGgweQDAAaka/8szE6wDWQ67OAxtNRKraF7SQBjMN6/IpsLb1M4uJk7y7bwTUDuyC1GIs3AtT1AA7DazVGe9KPIP0AfX6Ult1lVvLevKwPuB3BDTyfnl4vvnOJO8n2algqIlzjTyTh2BxvGW5iO3WTtMh2IHGZgdFaBRU7WBy5vXW6LVfLaRYbaOVLwufyoG/Alsiflvke/x+2REEEFmWcbIxAPKCShEV//I0LkOHfODayqjmKqk2W6bPjCvTbzsbKUmSQIwz7wQ6sMK12vPzleEsJoPoSPSF3VWeGT9lVHXVNDH7Z+PRRolsrLC1wtp/+0zbkAXFejHND079d990b9lWSyLmfH6XGfBoxYMSUDCYwj5+QDQC2UjC/pdG0W0lLP+DHanlMiweFHZcxZtHpho+SBeQAbT8G93vCl+ICqWsmcyVWNoPEaMmeWIUuCoiLxlXfS1Z49mbsTliDo73KP7ZWCi9U06+bpPFDWnq73NlGV+y3idPB4rMk6NpeIiQ6uBz+PLGQrAqoxgpeKgikXpc8xG4tGdbglXw2sznf6Nq9VJ94/OAmmJAYyyhhhAy28B9ZQz20l62k+7SrIG3RoiUlTHhgXGxt0BaJcerkQuup31NARPtmBurIqke8mIAAADAAADAAADAPCBAAAAsUGaIWxDP/6eEAAARVO4ALNNmKdybzWT9jO2zeCzR47DV/76Lsu2K+7Pija9h9RFiyl2aKBXz2dFjWBhoDCiSoUWmLVn2pCo3ZEUi1Lbk3dLwqFCCrc05iU8UnY5NLRYvfs0je+QnDX8ZQUzCSTDhYyHLUlrFqYMsYq1b2MwzWS9wRLyv0hSsBBGYebvOaQfRnEzAGzu+peQPXRHQe8CjIiZgjED8eJsKgfBRx9sRpue4QAAAJxBmkI8IZMphDf//qeEAAAR0yFAAdKJdvP//0kjMa0SdCnixNkdJfat15yYoP+T7dgRPhhPFUXjoKCAD6u9e2g1SwuL7Gfqs/X9kOle6Ji+9AcHYIfw+D6X6GaBxgtpOhKamk4wedZkdVqQ4HLckfPBxAmE7vcgnjPlzt3Wx/wtFKJ9zrV2ZmEme9G3FmybQAxsfN4IXtQ0KgYUsfMAAABmQZpjSeEPJlMCG//+p4QAABHZcHfSAA6US7efQJuNe+q+p/P7JEJBe9pI2nAx+wTLLgiFdTf8ptZArbtP5h10BZsMsecZid0ahF+mk7KP153eJTQTHVlGqnS4O3WP1OzJKfbXqeScAAAAbEGahEnhDyZTAh3//qmWAAAJBczUWv+SWjQo4qxmu5FxAB9LyZEhpxIE5ExhdO5mFNwKovZIX18AODK3/+X8dKX8/mzPr6iMB3thtBRNfQCEzt6nPMG+Z0Ph/m0wFV8zhOoeekXSCeKkEW9+QQAAANdBmqZJ4Q8mUwURPDv//qmWAAADA2VrOSEIANpNCfLyN0jg3ddlVc9sjn9k0edsxB10qyaKMAuGqGDm9BDLFupk4HhZflpyOGW3a/xNxEeSAsvUbuTMZNAR54A94XT8ZoIJjf9yX+nR8ioBNYJngJp10xq99jxYH6Mqi4+w3sk6geOPh1yX3FhAS4K2Loh2U2q5vZbbBvzupn315nf8U+IplcmPRiqXCG6ieT87nfcPB/9pjPhL3+Fak09HV2iGsKU92+Z4Zi/cRTRJsj3nq+/8E9F88Z54vQAAAEMBnsVqQr8AAAWuw0voyHnt6sayLhopygBMjZq97X1KssAuJ3XulCabZDHhb1hhNE67/kRANeKJeV2knwKyUbeCsylRAAAAgkGayknhDyZTAh3//qmWAAAJT8joIZ0vi3GPqLyH77YSF82BR5WkPN1cAz9/85awm7sSkTwT29WZY1+MFKhefTS9w/iFAPbvw7EQVZXRqaaPtUKDiHE8yzTvQlLvFCt2+Z6gGrYYPtkSNQWAbgJkRhWY/HK69/RDFUbn2oatSrpQsYEAAAA7QZ7oRRE8L/8AAAsTGW1AATOv/R4FJKoH5T+aCF6hRI1uiKtcml2zuqUAOKlKLsjVQfFBFkkPq11tbJgAAABBAZ8HdEK/AAAO1wy8l5XzFIvBEuKcZYuxGvA7bKYzcAE5J9dyYDLtRbC2fAvaeTGHzWZLTwhan//+9Z6YWpxTtmAAAAAiAZ8JakK/AAAOgD+V6cjWfy1AJqbfnmrnQ4V1Tg0292z44QAAAJlBmw5JqEFomUwId//+qZYAAAlBSsdQWH/qXtGvHGgRRpaCFDH6ruS/Z304ZDgg5bK4cYZj/r+b1GuSach7IhRf06pKgPAj5w7x0ApPlLp595W3VH30LmRhrPNXFAQE1zU0QoljxD7FFev8f0Yo0LvKU+vw7jeHiuveevW1Dzc4y8HphTV7XdVSsFXbp65oowAn/bptib6Y9J8AAAA+QZ8sRREsL/8AAAsU+RdVsNV6UskAGz0wMmn7v6WWqNvrs4ARiuxPtfE0ZvH3cyHuBA/jYmHi3opC0UU7+LAAAAA6AZ9LdEK/AAAOfz3gAF1Ha20L+ee2yxuBwXhrV4ZujBJka533qnXeOrxQeHEZeE9BnEgAfFJZXGMtswAAACcBn01qQr8AAA7bM+M2e183CB1AJzHLho87zAiph91mSvTKN3NMagkAAAClQZtSSahBbJlMCHf//qmWAAAJQoOoQAUml0LvH4dCWel9U8IdiErHCPZEbF2NtqeIk8QvdOBvXmMKIjPOu1wQTkyYK++fsEkffP/XVcxliCT2vjmdV/zyYErnN9wPkrPs91LB5N++Uv/xAdkifmfBKTDaYybBf2uNk71VzFZzsrTAo0KJvkQsDW3WJsLnLV/MnOaGXgpsQnDZ8cn9/Xa8Cd47mAphAAAASUGfcEUVLC//AAALFDfQAIxJoeRZICef/9h8nYryWCglHquSabVfDFYdBcsBiDAtmab3i0bl9s55IHHZU+xXz/QCQsa1kO6KbgQAAABOAZ+PdEK/AAAO2UrrjlcCgAON3Ul4YTfE/ivEFVbH8mifHlDiqrcjItYlSFlYbhZ1TlD1EXRBhjsM2jabyWUM0Cp5hZBES1ZRIWqXnNmAAAAAVQGfkWpCvwAADtgy4UCN1ACWpXp6NP8W7bpl9kVTh+idJX/5Oankmerdrdr++2g2V9sJ21vJITceQA1Rf6nzUAuYcdlvlYoXF5rvE/LOYAUMXA7FQmEAAABpQZuWSahBbJlMCHf//qmWAAAJQUqcJrUlaeyWP9AudwdIr5BygZkWrjS+f5r/2uXTP89NlcB6paVxkBASPir3FaoxIGbaJeJSQiFj1MgckqF08JJ6EkwGi7J6q+910YUX6ud5gW3AXwWIAAAASUGftEUVLC//AAALExvJQADi0W+GKypfxRWZxTmUwydzLuPv8RPg4ehAYFgEriCyp9kbH/MnjSm4LfJFi82gWjmgJb1RCBZdhakAAABCAZ/TdEK/AAAO25ROVVxEAAXUKxfii/i391MhgX7IsZXuFu+NvTUvNJgYpEc4/UIchVnBUnNVsD8rP0x0k8gBVSbhAAAAPQGf1WpCvwAADoA/j01KQAt47VRFqm5f8Vhs/GO9YZdxMsa7vkxhGgRbUtG2FlHTYKHRiCrgQFqXvdBJZa8AAABoQZvaSahBbJlMCHf//qmWAAAJQUqsvPs+IxEARKffQt/8Zv+SLxJ+f947is5Dev+wlKho2mzFStIOuFZlgSrNO2XAdOGgDpM7CFdsRLsMtvoyCiSP2yuzhPEFkt8YhsST+5CQod8y+mEAAABHQZ/4RRUsL/8AAAsUvSKQlMMzUNh+ga6SpZ/bug7ypiq7fWf5RYATjikHR4wI/+DzuQ4ZfgzCo40do5Rdi3j3zXJ4aoSYbUkAAAAoAZ4XdEK/AAAO1wi6ga8VpQwxHt6ByFr5lW+uCkdRtO43jCCxNq9akAAAAEoBnhlqQr8AAA7a0jaD94kOABOsimFBc3x60KgUxSSDhw5xi6WXnYl+p6NRBKNIkIJSSGOvEpUw99TzEt+7yrQUqAWyQfNJlCy2pQAAAHNBmh5JqEFsmUwId//+qZYAAAlCfuqqluVnEQnAAS+ugMTcgN/4KdnD+mVuTmmeKZ42/1xvCSbCmP14qFR6z+WhuhjMINOfK/SKi7JCkCsAHjX2sDSeUHMya/kEaqPMAoPfj+KIFMC7XRSZ8nycr0N8lqMKAAAAW0GePEUVLC//AAALFL12oAceAC93z12oSZIn6nM/BMZdK/3QxPryVWQ60VgRMmckxqxUx2GXuAdfrOGEHfYdx4GjvTywPBJlbFNPpPqSdH74zeCKbLGLoCG473EAAAA4AZ5bdEK/AAAO2T9RYhJLFAB7/JgJrL/4TDFqLkfDYcRDLILF/x8rhkC/gsBIh+loOGHAcvXeHe8AAAA+AZ5dakK/AAAOz/KWVZLKW1QxTEACZ3lKEBa///cGAIPwUjWDMxRGkVIN5DikETHCUQgEKWwRtcBvWYMoe4AAAABgQZpCSahBbJlMCHf//qmWAAAJRgRESywgCtHzowf/HpsP/iKiJ+nrcdZX4eobNbE4DpZamkCJ5e6Xlc6FYly1NORlqyEwaE214wqFUGJdrH7SgN+5TJUdwWhDqAwuA4OOAAAAY0GeYEUVLC//AAALEpiPeqC0mIi5oAIbxSG5i7/ZKUctwqwKxgDdZDo1w3gdx9QMswtXXtzOC5qjDG/TWpRZpBeLx83R5ATfKM8ba38/vIk7+IOKGS03LY+WnU4htAHZDfipsQAAAC4Bnp90Qr8AAA7T7/dGYP3QWvKOyHPz/BL7W74vrnwSZvNA9r3y8GvE00ZW3TpsAAAANQGegWpCvwAADts6jCwZnHv3ORmfxxgBEhb6M54if4ZsfPN2vs0hR/avdYOhgHKLY8zzRbkXAAAAR0GahkmoQWyZTAh3//6plgAACUE2SVqX/+O+I/oVLVndL6HKWT/u03XLvVxJ6gH6+/uH0JhJf4wIYsbKv+N8tRfZum2+L6m2AAAAYEGepEUVLC//AAALEpi9peb9MGZqWeMypAADahbyhHZ0eHi2vl2dS9T7vGCfFB4WmJMPyaQ8MLz7RUvpGLvCZaZj0wKVqgYH+EkHuuijZXkWE8lqublq7HCI7hzq4JUZwQAAAEEBnsN0Qr8AAA7blKYICTu7UAH4kt+coio1gORXP5ivdGrP8axgnMw3UJoDAN07hPURFcHprgxjCQrNFDdb0GWO9wAAADEBnsVqQr8AAA7bOli1QMv0ZQAJyeaV97sjbY0uW1/uB2+Q1V1jZ/AhkVyR175U0wvBAAAAfEGayEmoQWyZTBRMO//+qZYAAAlBXNGIAia5/sfOgtc35pZQcE/WKjQu3G2LVrsOm7RpKVVuAMi7E0h38i3qhmZ+zp23VetSAenx9Hz4ZexdDBQ61IBmUI5jOxAyeqbeGAyQSxYy7p1PH96JGVWvZnV7E/ShGzSihO+DKdMAAAA8AZ7nakK/AAAO2tJK4p/43KuYNgATqQyPBPvfmHkRuSfa3F97Rq1aMZFlvixEkT7KuXJeFV9EguROyRFgAAAAckGa7EnhClJlMCHf/qmWAAAJgn9rpQC13QC+6NbleGQOIIsuC4BKs0FpaKn59ns6WS3yhHdmxXWGMTWIGFPTVh5kMJVQBFwPayY98YKB58PjFILrjH5FUCySe67zhocGdUf2zdoSn5aeUD43dk1Kdb6IcAAAADJBnwpFNEwv/wAAC1yvM52VfUraeMrArSxk4PaP+Xrc5NUcb5GUJTEoG7XrmMqVyG+c+QAAADsBnyl0Qr8AAA80SlUkm8k/iOrTn+ywAe4Aev+4DD7latrz+XFW/ezQpyV7j6/3ZNDvjYyXtknV6ZaIEAAAAE4BnytqQr8AAA8y0jaD94kOABxs49UVI3Z1YG2qwnkKxG0vaNuGkcTL/mFbjGMnxilE8nAhgmjPciY3GtMDWo2Zv5kSqd5Qf9oxkpBnwQIAAABcQZswSahBaJlMCHf//qmWAAAJgn/Ngyb6/gHAALeOWE2jT/+gWb7ZeE9neWLpwUbDO5/ukjdRcW90nbD/OQp22IB4UsUxCsEvlj/Lc9ayrqz23Dx2voWXgVQ0hZkAAAAwQZ9ORREsL/8AAAtadjjMyHrZ/5gFNFFVki3t66h4UzWxXjHhl58YsfhUEMCwGw7RAAAAJQGfbXRCvwAADy6iXE1eaQENrjbr1JpKb9Bp8H+c0anqgAQIdoEAAAA5AZ9vakK/AAAPL3R7Mjt0L5/HaAAmd2Q2xP/zDZyzm0ynxc6jc2s9dtWtdMi3oskxmAL4wlIuN2DAAAAAXkGbdEmoQWyZTAh3//6plgAACYE2Q1HCYlFt/9XsbAL6WAALpsJ8S8H/AO5po8AQEaZfo3C3uH8HwZBYvaK92HlElQ8zMQizWE0Cc38neLWIK18Wk5QX5Z254GaJeYAAAABEQZ+SRRUsL/8AAAtadkQa3WRKoLxQsp9r1gACZ3Md4A/Rf/+ldvtA93ciYWhq/82bKTsdJ1IJvclJyOuf29D780hB6TEAAAApAZ+xdEK/AAAO3GES9N4aPoUHvfhxBAlPz+SJJ87SNibZlF6k9u9xcoEAAAA7AZ+zakK/AAAPL3R7MiwhXXykOqG3HACZwt+cov/h4T0rAcierh0LxW1d4UHvkLeDVzIViZdg1Xi4vPgAAACCQZu4SahBbJlMCHf//qmWAAAJgTyPyAHF1ErnaR0AXxf+N+3v++C53oaWBndyD4MtrfeXhb/RP7SzwxKrEg24VcllYZhfHd+3V/9cwaBqau/Y1yDL9OGFEIincu5BZU/DnYIOgTgHdrYKP9pfbp/v23gKwqqxmG0bvOjYptfHC2RAYQAAAE1Bn9ZFFSwv/wAAC1p2R8JMqwEulCzqgA2o9S1PQS3yGEqObVEbmbDg67++QYyqZ5Yd/XUzAVNvjEy3PXtVA7Sdr4h7UM7oFEJ/7DM6TAAAADMBn/V0Qr8AAA8zlFJQYjxR1rodSnSpJ77a3/LWWZxEp/Te6kFk7J30cPmStTgdGYMx6TEAAAAvAZ/3akK/AAAPL3TQ5qecqyFrD16KfXbFV1UPfJUtEVIPifR10sild9GwtoQIFn0AAACeQZv8SahBbJlMCHf//qmWAAAJv+amOD0gkqEmuMMKwSDv43KSKXHpQgnGmOZz3VUFW42Ra8ieu/7iEUR7jEQxUXDgsQxcP/risGROkwe8NxK8mwvuToaN9P8khaDehdVab5wxrym+rmjXvGjZPGnICfZ7gJYzWEYtYGzxqgnUyVj4ae7znYhLH2z+prsdDxqOFNQj/dq0xb56wDxX12AAAABGQZ4aRRUsL/8AAAuk+rDFa7gmng/mzBQe4P0E2b6wlDNGdcPz0BFGAXSjO4wAnb1CAxud4Iz/r3H8/YsE0wQlADKAdsAT5wAAADYBnjl0Qr8AAA8rf61IAFyaLuMDusFBNefzPcB63HZSxbMxEOazbxfFZRRsQCC+Noz6C5hMmxYAAAAyAZ47akK/AAAPizQMoABdP/5KFfzNgP2GMI0UwNKSTaRLbLkmTiPpdzbQaHgIbAkusXcAAACbQZo+SahBbJlMFEw7//6plgAACcJ+6e7mAA6UnpbUI9J6SF0/7pBzyShDS7giO2WeTO7RSs2ZmMc8KJRHvQH0b/72twlAiXHWuzRe6CT6LSSpNWWXiHT4qEO6YvBtDlDzchQ8oB+E3LH//OhXsuAf7p/1z8C7toN/tuTlPzVt+L6DuvqNBLHoEpZaSUvO/IkbJ1dquz77h9U6jrUAAAA9AZ5dakK/AAAPh0VVqBNaqHjapvrd0zT3yREVITmnb9ttb1bGOwQptpS+GCLvUACFYyoc9S9CXTL9zVr8kAAAAFpBmkJJ4QpSZTAh3/6plgAACcE8fRP301AF8390lyMHfWZQHEfT0pzoDMj1iMc692bsN1sKtH0kznJMlTTy4sNNvRF6VbnQQV3LxH2xwt17sf/al5vZm+1mEeAAAABmQZ5gRTRML/8AAAuidkuEDakc1aAp+nbH1Rtd+dTBuYMYlgBFd7AwmyVA0o6lqD+pxphQzlvxdnzCCoBLd5XbC+r+zHnmln2xJ2cmld0ZM9ePxFMT+fzq80KjbiNOsZrbVeb2bsqBAAAAOAGen3RCvwAAD4utVyAIlyEd7HQUTSnkjmWeT/GrX7I/v4Zt3dyBsF/IOKGTh7E0WNBd7UBuQsqAAAAAIwGegWpCvwAAD4d0jOBOK6JETFrBkRWmg0Rt6ApVRmUqKXeVAAAAjkGahkmoQWiZTAh3//6plgAACcWqaXEFQBE0l09/5Zif/2PHu/7nQUF6Set0ViqMNWXftVeq6TAGxEZWf5LzbhVG2CmQLNbP0BIPHP45v9EyFUaI0RdpJ9hTN3vMqRxCguLffojKEuHVWVVCH50GJbQxxUwT+oIi17uGJg/JgWQfMuVe7stCZvmeqqa7MkAAAABcQZ6kRREsL/8AAAuct8uOM7EIgCsjgTlK+JJv6AAv3gom3m+0/2xYHwO/nmS6xNqfK1hDzK5waYUEbEmaGaal8etqVIWJrBugTOGMZn4Yu/85F+QWgzDqXfAxCd0AAAAoAZ7DdEK/AAAPi5RhrWJ0wSk+SjxatPDb/nxJYGG1PJAst2risJaNeQAAADkBnsVqQr8AAA+HdIGWQI4NFuhDqkc9SzrixF6WWbIzgkNl+qQI8KyLOcB388AJ364EBA6tg+c1O6EAAABtQZrKSahBbJlMCHf//qmWAAAJwTyFWrlkDU/87wABaWmrzI2f2Ul637NHUz8n/NQhP7p1OvnqINlZMEz1I8PbQPjWcChqnVco9c2tuYKya/O9z3vDqZkpxseF1xGsDhbp0NKM2LA8LL3vxcshwQAAAFhBnuhFFSwv/wAAC6J2XkPfzSgBLJgQDIUaUUaQ/Xp/M3X2IlQixicm7LisNWe3wRO22DJkPEwoQ7XxtbqEGMgOh0F40Rb68WWalzMrUleAOgjgQwtupn2VAAAAKwGfB3RCvwAAD4uUo8ed+eZeS5i6QhwiEoNOfoJH8x/grH1Sp60aegWw4dwAAAA7AZ8JakK/AAAPh3TElHUACdZFMKC5OQiQo028/k9XrMMigIHRut2zCpzZeIl1NrFgVt7DmggPh95ydqEAAAB2QZsMSahBbJlMFEw7//6plgAACgaakhmInsvqxmIHVAwLMyTnQR34KWUWTaIV+xiC3EfqFsp7MAAbhBlIuVR+J2W37F+StIHrx+f2Y976fJOFP7VL7uc+LSF5ICgFzZmHKe6L0iA+3qHGEHpMfEMdy99xADCXQAAAACwBnytqQr8AAA/jM4PvcyiQclEDFRSIjxe99084turoi5Os6NqPruy2hctdbQAAAGlBmzBJ4QpSZTAh3/6plgAACgghpKt8bdawqfN+7x2sbFABL1BuKiw/VoX22ujyTp5QlY3hKPDf9g+7/+1mvaFrjRD0rIwa8z36ybmnM6Xv+c7nG9CStY9m6UWRhYiGhuf+InRcgbqqB8EAAABIQZ9ORTRML/8AAAvvuPCau3bRvchVICupkbAhoQAt42kWRCcKd+NRFbFir1sXY4ZUuaKGw8hJt0zqDF7OChmyHQTgMNgOifFhAAAAOAGfbXRCvwAAD96iXE1gyv9dp3svGaI4gBuq2+OqNEPrsDHQEDc2AieI8LL6EL7/m+rKWjLzUx1hAAAATgGfb2pCvwAAD990jOBFlqp6WF83SAEtvKbumPf/+Qf28eSja7prjBhbVjok6XvHYanVkufQ102QG81UHnN6JDLji3sNJ6/Phpj5uvH7FgAAAGlBm3RJqEFomUwId//+qZYAAAoKhLV7zoAWzH5emnG3LQihKPu3wqzR5yBt/8P25M7kORUYnSwe0TzOrgEV7Gl3mllgOHYllHf2zFxHsCLp/K1AYv+0IYPjZjgMh2jqY1ycg/7tehDfh9QAAABPQZ+SRREsL/8AAAv0J4nRRgIMgHDQJ6BzXjmbQpF4yIM8HJ8CmKJYydzG77N9ACW5ceEpFjErctW1/4ia3ouHy3JvPVXn/sYhRQUbzpdiwQAAADMBn7F0Qr8AAA/eolxNRDJ4O2INRuDT/z4jshUFMkmqx43ZlWK2kBsnFn1gCizcs1RdHWAAAABDAZ+zakK/AAAP4tItxRtQ4eEZDYt4IRjwMUhLS4wwJZaISMQ+7wsv+wlkIAQq7+0Dd8SCMTbIUlHpsoBjt2UdG1u1QAAAAJVBm7dJqEFsmUwId//+qZYAAAoIIaiVQA490AvhVqkfvn/SNxgwZWNT0E7puSVU3X8Qr6upAExYk7jWtPFZYEWY34M9w86WwX+YOopz/zmwShpZqPyQTmKSY6nLYnHrcjVaBd/5byE7X68NuO48BkY7hZx+fXYWjj+jlbGFibrka4AdTSXa9ul2AVIcJ37Q8/LbTr4+gQAAADNBn9VFFSwr/wAAD+VL70AfDJKI6cO4kLOQbV/Vsb4T4QC/Vmw27srp1wq3JLXkzqsUqy4AAAA4AZ/2akK/AAAP4tJTRO7/t/TWoAP3TLTzj/QHeQmQPaj5/MZK1ZTnLy3ZJ3loXV4vcVxktkfNLLkAAACcQZv7SahBbJlMCG///qeEAAAUbERpjokdj28kOCbYkB4yDHFK3EAVcpdk/y2/AgvQcAFgW4AL73V3smqG5dZ2MKpgAkZQP58SCwr5yGW5oFWrG12InyZnrydJEYRKh2uMUR9gQV7e00SsIJprtSIsgcdMIzang3uWlfYzOJuXdXtXkjzSvv/M+tCTR7RI2BJuBKfnbc37e5hpa3WlAAAAUkGeGUUVLC//AAAMP4sOBhYhhs3U3vFLZThvPtFnWIgBNVWNRvN/hGg3NIANz4dAMxAbGrsXvXPrimF6qUw8EIvt80sTnugAuP2rEyryUXF/gXgAAABIAZ44dEK/AAAQXhJa8wfd+QA236sVSUatf3lXBa6sdcanAAWX+eFNq7Wv6Cewecz5H/JU8Vt1s6lSFhiR/4lr9QmQWzd1JzOXAAAAUwGeOmpCvwAAEFevTkboABxY20/TDo/mFwUvq57c2Ouo95cKBxc+RjM72ODG+XZdkFap2+KWKxSkkSroFtTfQo9wltp4T/MQSIjn7s7qRu9EB3SAAAAAfEGaPkmoQWyZTAhv//6nhAAAFGw4xCUQ4P3IL+XVi3Yk2H9skDJ4x2Jlc4LagFJO3C6cf7TbdKrLTmOYIwVaoG7xCqb/aWbdswi5Q0Tvy1/CJkjbTH+xw4sl33KjHQPB+xAvkjChf5N92iBwqY1DuuAh++fpMb7eKZzd000AAABYQZ5cRRUsK/8AABBc9xv1FDBYkQ0hPscuwkWOMxLk8Da2ekKc4SoLJsykoVw2N4exLdIqT2eaMAOCFj/5i0tFrUDO02C14t8FHw/nPcF0M5S5K41oatu2UQAAAEgBnn1qQr8AABBc2CyqjqT3o6wOZtbl5sarxhagEcM5k0duA0PaOYHdGgT1yEhumhJGAE4VSK4iHqn+W0ssGcem6Z7O14jQnHgAAACwQZpiSahBbJlMCG///qeEAAAU/EkM4AHx/zGxnxdcu7LZgHYiya2sLaASazknkMIH7J0lfkMTRMv4HQ+FZumXWgC/v6d8dg+usevj/AoWCpTNtDghjFBJG4Zb1kiA4imcacByrV9hhhzJQVNPEZp7fM4jNdD5ggbdKkDx/Z4UbMN0vzaCDu9CcXiFvWrYe8pPzFSJkYZc7/U0MGiZY2h/Sv6BasKg+J+0EzAOqv87u2gAAAA8QZ6ARRUsL/8AAAySpA0FPEoesty8KvpBS+HuJIoxPy8Jir9IeTK+megkX3XA86pcGdPwiGDxO5PkN2PBAAAALAGev3RCvwAAEF3UmDecdw1ansBDCGleFuuUpUz1BBu5hrV3NyWFZphL7v2BAAAAUgGeoWpCvwAAEN2SzuG2uMZZXMHPMdrze1nbs356UtcXFBE58jq4P9rvL4pXD3w65rfEAIU84Gi/YP/BdAemnAjOz76bvHl8FZlIndqly8Y/sCEAAACCQZqjSahBbJlMCG///qeEAAAU//8pkC9OIA5TMo2P/30bRU0t2bzrE24PMvXsDcrv7SdMPI3j85S5IS3b2FhVxf4rEVXQtwyZN1e9geqmLuaPUr4bYRQAdgf/VtP/cEv//NxfG/mR8dg+biXcPnzkQnQRfSxSXy/skMIpcN1V7rbDgAAAAG1BmsdJ4QpSZTAhn/6eEAAAUaufSoEDD/fa8fZ5gDcx3Zm8ave2ftP00MdlZCEOtzspD604HqAI968FpJF0W3wvu7RJ/mf1mFjvOhuZ5TNyAyL+YIjQRAHB/JkRpqu5Xcamv2KF2kzfShDOfqKNAAAARkGe5UU0TC//AAAMj4scj/ipsfrkJ+gerz5NHdKx9plR/AiSdt/zNbxSIh0w0kAB8IbqKbeLhqy8Mfn8bkoEKPj3wsrHdbEAAAA/AZ8EdEK/AAAQ3dRH3SqHqPF2r9KZCFUCUrzGOryUdN0CY7MlPgJXoAEFqAc9Nn7BwMTP46ElsOG3wVQjcPhBAAAAPwGfBmpCvwAAENflbIAbgF2vsf85x4VQWUFEMcfZE4pt1E3hOuehW5FPsCIhRUhvldN31j02UPcVo3U5XtE9dwAAAHdBmwhJqEFomUwIb//+p4QAABUAAQZCUUQ/KB2eLRT62rb1lsAx88HzGhxq3ue1FIxaU0o5enFtVociBUXjJFO7sBfrCtEQFQrTfduQe2tRn6dROB7mHjjf7XXja84YObm4JXFB893qfUzU36xANH8nO9G26ar1YAAAAGhBmylJ4QpSZTAhv/6nhAAAFPxgKJ5yhXChbQmU0PsxLcs0hlXCe0d0nV7iIY7y+3PoS2mW5PAd1G18KZrfSciUbH/6/nNS1z4ezv41abjcwwKTcVFUGBArtRIIWHuyay5+rFYRA2g4CwAAAIBBm0pJ4Q6JlMCHf/6plgAACpaao2QPPKGUkBeG52hnLbhEJ1eMAAIg+EUue03/IEKP/NSVw6YiACMU7ZMwV8QPNQhMa8bPNiU5P7ThOSX8B4btx/pcgtc57v65Ts1B/K5BqixTtfEUV8W+I9mwpCMuvlaqTbC9N1m9Zp3t5g2SvQAAAKFBm25J4Q8mUwId//6plgAACt6SEWCWqYAG2QZYV1bLCL7hR/mOj4oWPUJpe09v1JHY+vo2T5/PeG9udx4GO25XGHmol07iXWutbns6WRe0BFORYx6nBLLD7cN7FwQKqC0hQm/1G6J09DrAF3B047O8/MtcfjCe/KCjpcfVdD86CxPBUcOBfGzsUzmNoGcXycHhsoCnavX9VLKDgKmozK6EoAAAAEVBn4xFETwv/wAADN+YocQxeivFbE+OLXrQxHUDzzhKfG9mKUn2mwQLlCjGglkhtcEBoxS42jYeYX/9CWJxGq6nlFsCm4AAAAA4AZ+rdEK/AAARXdRxP0U8gB/zJD0SFHh6pXRfsH+NYWtUZL/vtfxbdRMOAYby/aW3J8maEZ89Lu8AAABAAZ+takK/AAARV69hRSruujN4qGlsAJSVqUUsTr5ZIjLXZ90ACH567i/YPux3hgkAk3rafz5XRFUjqWB0XdmxpwAAAINBm7JJqEFomUwId//+qZYAAArgIvzaSqM39y63jENpYz4nIcRYIDI9opVrHD2/xBnpYakwdXALWHp86bxtOGqBa3jFBv2r1TvM05dJR8Yh/ZorsD2M0doiwZMoXiPS4AQ8K7LwUO+573ghKyILq5Y78r8YHyAURa7KD3omSMw8AfN5oQAAAF9Bn9BFESwv/wAADOI/GWenH8We0PkxT9OqCR1u2SXH0qpRCRuOTPW3INB/C9+AATjvoEWUZ/jUbgHmQU0ZRV15rrv8Y5K+9L4dabrzUq8nDuYiGCa+AUD39DhikMJ9YAAAAEwBn+90Qr8AABFd1EfdD0+6gpDUM296imsQFKgQQ19C2i+VZHNfLFk+VwEOs74pc+lAAIRoSr2IMxAReir9n0NGzfs0RMulFvpF3P9bAAAATgGf8WpCvwAAEVzYTOvBX2DXTRoSpG6q4tEGP6RMBgH4jbMFPfMb7OPTdUKwXwAJ30VSNeBk3JtSa091rejzz/2Tr/MlYQQC0VUK+WMJ8QAAAHRBm/VJqEFsmUwId//+qZYAAAsmkB2YUAuoBaHzYNL/6VKk4gXdAVHLnlZ7Qe/D3wZiySI5C9fyy/PfQ7p/YAdG3V3l3pqcJGwhJFYgYirfDKJjBo+M/1eVFBMRZu78Uv0Paa3/sDxlvbY+xlKNEHmaRZ4UwAAAAFVBnhNFFSwr/wAAEddvspZMLQ7jpU4KLihj9BTPZYiC9mRtz+N1adBGbayl5vgAEQecC+MRdf703zXtFB7bulQKTiMvwFIMKtZk1TB7ILYRKGdygog4AAAASQGeNGpCvwAAEdevMGj3/m69p9yXrPnicJ35rnG0/u1opkogFgNyMEz4ABEHnQ8ws0jI+hK2fil+9F+0Tq9h8d+MSVrRIjBVaOEAAAC4QZo5SahBbJlMCHf//qmWAAALJpNmGbUDc/h6+Ko9pbcu2LydEwXKCGQADqCLNlnf/hPGlvgp5GiDlLTRHnuG0TWrMFKWon+/A8O2K+N3C5JOAQaRoaEQa5kNVos3/+uOAYcvYZ61B90Z66N052XfYd9z3vBDogEaRdyLhbtO7Q7A606v7P3uzL4t4J3VnvuCl9WYNRA/8pccP/aZJcqB1w6eN2wjPaFff6CXgMwt9pKeAVlWo2nBLQAAAF1BnldFFSwv/wAADS+dFc5qnBLSyoDtav05OVjeEmFG1I55zt7Zv2Rt3GmPi1g7N6VIsmRqH1gA/dZu4zL0Bzy2v/P4yGReHheOPXFOTfEs3C8MyCskbIJ0MjfZvhEAAABTAZ52dEK/AAAR3XcjgAF0fsY/39xsm/MI0zU9/MlDHn4hIJ0cmV2cshBDUVNIR1Lwx3G/cv4hkNfMvAh4y+T0CArvRF+cxDyQUEqy4Q8JMy6xl80AAABPAZ54akK/AAAR11W5jPGZHTgg4dn8E/jrIfUCTFSZ8RQUnungjqImiEU8AAhR/WcJ/S8fgKRUv7pkkO0xJnBdkZbyVLHGMLxKloASMbdVuAAAAIlBmnxJqEFsmUwId//+qZYAAAtukhjEAX5AmKqdCb3NfI//7P3L9eioewkTimnAGhEDjVyeHT/bgdUs0OM+B8azNEr+6LVTygrE0ZuuhNGH2m8yd4QYX81p+z3vQu9k4SglrhZFCT6x9QAHyT+2NJ73ndEX3jqBv9N1LzhuChG8YD/vLsbVvcwicQAAAHZBnppFFSwr/wAAElypc5AESV8YHjcGIpXsqINYz2ltOGFClikQarJHH5PBxx81dVcMPMqakEuN34H4ErAsmPtQHsmdkq+XufzMA9cTNlFsi/bUnXM9Uk1GPvf2BbMZwVbSdsrR2iBNOFkR37PV/mEgQqbH8lqQAAAAVgGeu2pCvwAAEldViDSLFoztcGF3FS1dKgBan0EepiViyHaZh+yvjJqhwzMEPEAIPCxvXVxYHw0D2nc9J2mOmXderEwb6RO1NfNwEfz2KF5T7QOd68lxAAAAkEGaoEmoQWyZTAh3//6plgAAC7ipmb5bt8esY/FgPVz3FaZvjz9dU6vDzA8uHAUQccoPNcrK71eaMWykh0GEWBL3RMvfTWuar4xLzJFBMzk5oMtgqS3q9A/zamVn9MZM4eF9qHFhNRj9t8o58oTble/48QPVD+C/WIFlT5wnWaPhD7h5teYyru/wyHsxM8CYgQAAAE9Bnt5FFSwv/wAADdKmORQllLpB4adSEf/NABOsqNfECJn9gBMl9UcHMwPj3FpYGWFgI5FB/dI4Fs5QccBmkveBddxjZahW85mNyu+n1MXEAAAAYwGe/XRCvwAAEl13FSAFus93Ljoc2Eo/kyA8pQCzABwq9Ip7Q1Apbhu2KGBy/bok2/3elQWlIMAuSIi0GwC6vMq0Xv/4ycaRyzfdgfh6YIdm/2gqTJX9phiuQRcfysHLa5GSQAAAAD4Bnv9qQr8AABLdjsIbt+dyZRZ3bvHlxOH6AaX1pctjvc/OR3gADtCSlmMwntmkbAL4mYnNofIhHRMt0ntnwQAAAG9BmuNJqEFsmUwId//+qZYAAAu6icy2+ioAcc0EUxnO6r/7Hjcf9yBeSERMUR+rMie9HpPTFpAoYgNVWn9+UnyDVi0qjXFMk9KZpg434T0lVwKjFatwePEUOHwsMEyn2grZD8Dq0OzQnAvBmwxrEYAAAABHQZ8BRRUsK/8AABLcsfJfRPT+VyXCB8vHOxGrDKCA4uvfN2lkRz2703d6onUXnjxfWXCo/e6RM312A8Kw97a6i1bqK4MgjukAAABIAZ8iakK/AAAS11WINIyqnUWiOoSyoui5UEdjmy9bCHzOb0ACG62LjuiXqch5/HLrwlvMe/lfhnCb1sCS8J1SwaZTE6481qvAAAAAdEGbJ0moQWyZTAh3//6plgAADAjweRiuE1uJZwWSPbgBiCJ/xEBfffV3naF4U2qWkKf/W88mzMcqFlazuU47PZeBDw80rwqwCDiaFlgI1rTf66ZIlNMlG44gOuShhfTQ+nq/3pAJTZay3GiS7GHEtfXDjj/xAAAANEGfRUUVLC//AAAOJtzzTTHHiSrxw3hQMJH/RYyqIWEpcdQXx5zchdIhsqquyHK4LUN4g6UAAABMAZ9kdEK/AAATXyR/IzURPcB1HPyAap5pqeNgLSeGTIaYaSTpvttCfS/I4AA6yrkMVH/nc3yhSO4dPfwsxmvMZVA7ij+syaT0zKBteQAAAFwBn2ZqQr8AABNXVYg0jfVWW2Lg2TRCSsl8mNIRvusppvvzRrdyVtgcPfiQ2AAQiXT/J/2zf3WIWdIOUKAm1/YXpFEzSlHG0FFz7RqvQh9/0wdO1lZds02yA7zVMQAAALxBm2tJqEFsmUwIb//+p4QAABieE+Cv1IA5Zfk07tW83UVww6M5FZwz0mvI9NN5h/p8EZ3vnbvyEr46/4S0KsuXxZEjSHw3IQZ685CshvdSzfiGq7vEmAAF/spSpd7dUXf+gYREhJrN62SZ9qhHjJbsUESUolzfkP596+UsjtkQpSACVznljZDv4Zg6VO7xgI+w7iMmC0JyMH1HDPm6lyOz6r8f8vfYJ2rWLhEckfA2Em9jBwyK2zwmGA4ImAAAAFNBn4lFFSwv/wAADoJozTdyoWIAbpTjIIf6jBTp5K5W9hBFYQxcakdw7YGxtLIyJ1iCLbCLwBHd6R5N3yFrEaDNOo2UzfLT9dU0TVdZKbqGEgbFfAAAAFYBn6h0Qr8AABPsoV3ndwYASzM73N1TbPGaK8kOCEOkI7xzq59h29SBmyHZNdPgoc0J/Noed+yXv+1BDD01Z2fcU6+cHfgIsLTURbb42TFNxWyYiT4KsQAAAG8Bn6pqQr8AABPk400gCtfy08Po+ntTxr2JoAzH/eAW2DHD3ZYPQJqF8r3irSjuv3mt1fFEqN4n2zYGXu6UT8h/Po3xojBqroUHXkraicbtTVeuGK8C028ZfscXsM/Hz7e+9frfdGCXwzkQChEs0tQAAABWQZutSahBbJlMFEw3//6nhAAAGHdIyQlG//OtZ2X1j4/X+ybEjAtihhmE88qXqE6jmhYMTAokPlUM4WZg/7GaO09TBerPmUw1n9oGtyjpE4aYCqOEFsAAAABeAZ/MakK/AAAT3ELTSj0rxDDJ1klBKDgDQuKaOEVqfPhFmkOOS56ol6ubj0e0buDvffiAEJ/Bejmi/1seac4Yswjr62v/a4Br1rCvAXs8cIjLafaTjdw86duJrU81qQAAAL1Bm9BJ4QpSZTAhv/6nhAAAGR1df58ADoziyPKSO2ItUikiQ9I3XH9WFc7S7XL76JmEZipggUBqhA4///gU/B/aI5VMvpbv/UmdkKUUy3SKbp2YTmvCfsggRsP2xtcsaoBYzvuNMLr23JWSLEFnMXlRL2ovu8aKSFhmdzlou+nvOqqkVcQbwhB9+aqi+Hf780/Hi8L/OCCKSG8zHciX5FdKIIkQ6P3bD/EN675ffzpML/cAWVxfsMtzfMSI4RsAAABlQZ/uRTRMK/8AABR6PaYM0Mvy9Pp/b/J80cOz6YALnjJHTDfvq+GGJ61WyJGsRq0LHqvm65tqURrFXCzskLB0mhWGIGdtniyoYZtVHM/UJuisNCmaxHFKNHUJPU3dBc8xGIXm8vEAAABAAZ4PakK/AAAUfhHoAHYlYbjScDfet0eb1ewd9mgFbGfY6rT7C4ulIqJ6fVEiPIzOKff+QAEQzml/TsLvmxtRLgAAAKxBmhJJqEFomUwU8N/+p4QAABneE+AxACo95nK97jNEINgF3bFpcgoRC7bvFZO4Fq8rTMJmL+0Ijlf/7HkE/6UvJlN4QNNbfBx+SoO5S69aHYnOXm+3RViU6hSRiYN6T93rtnT7PxGhi2I0pF/qwRJnoLJPKm5J8RpbvdExtDUCdOB1DmMY74HXNuu63q9qszJRhjst5oza3BbVpvRrkzoDoeJtzhBVxeMGVxO6AAAAcQGeMWpCvwAAFQrxvTTt+59Rs8I2FSjPjnha9lHcX8mkc6vt5d1bjqrvYITt1jcTZZWdk1wFdPsTJpOE2ADaReTBxcvs6iP5Aed/BabX/bEvfqiEtOV8+IOnwvovXa9XRfmP9hKtcgsuF78o196qnWwJAAAA0kGaNknhClJlMCG//qeEAAAaV1b0tgBSNFbsA/lbVf+/rl/tnKj/d2Q1Vdx5RalYCME4BVgkapncMhmwJkfxYR/nVT8mgzith/I0zauclWvz+9i2Hk22ba5G86l2cmltUjVtkQhqYH677iV70vzios/62lmUW57skEY75yr/2u125umaetKKv8H7yoPyqPUwH2ZTWQxxiT6AeTK4fKQZRZPqhpsh239pMJF9hlDmm5LS4tUlvAvQ8W1JNfkngT84SvsVudFiPLZjzjycKeO/V5SNIgAAAFNBnlRFNEwv/wAAD4psPC+AnSdMSi/HPz+fsrLOrI5Ns6imGMKr/UMoAeZh6/JQeHLES3idw1AB8Z/8V/9/x5QdvC4SjBx2yhAF2EiidbMPV6+Z8AAAAEcBnnN0Qr8AABULH0S9IKUaKacM5xoAAnUhkd3O1/Fl0Qgt1Acb/vLavv3Vx7kObEzZ71wsvbPnHVW6nWtp+QJLnhOVBCK9IQAAAGkBnnVqQr8AABWbAlMPkagAHF+ttSvph5phIRsqngRLxSdsg0xNTJkAGAXkjq6gBW1Nf/MV6XGG5zzB62IQHs7pV7vE1/2B2ocl66pgFfzYbWs+jRjr2SYqDEwjD54pwor5wQ8pQweipuAAAADeQZp6SahBaJlMCGf//p4QAABpxH7mN7MkABYJW8t4xk1NVGt4/ksgn/PWJcU3O29AxFbrt5jsK16OMZ3rnCj2y1AP8lk9XLUh1K1e/DT/PHHMtfWFwR0IXmj36Mvf1n5++Yhn8ifwOd8J7rJFyASn62csalHko9HRmSqHvXCJP/B3CnFvNqX+O6+STnVZ4ErLGtVqn1GIAGAIpym4prF3jztvREksNMCs8hAr0WalJYCjPABA80yWz/IlqSYZoiur1xKx9LAKcIcAKmAXgDWBX1cyvLIhgENu/xK2Rl9BAAAAa0GemEURLC//AAAP4mjNgKwz9CMyvcjobyK7STMbgcqDTS2WzD8QaQWppbS6ZUtQ8P3oSb81HoRF6ggbnKY7jRYOMAAnNoHRQ3l/bYMf9DtMk5n2rosdqWZ64Vp9A9lx3DIBrEfHyfnq0I+BAAAAagGet3RCvwAAFY/MtgZS7UAOFg6nSf4QRX+ha2FVGUjsTYXT8DjzTjmFozafZWeUY/OinXbePM/zTmt5R1KbW8Jlm6CAfZ4MbjnUXmagAPRIKcS+KejwLhFC46VesGTPHh0n2lBLnJ9c40AAAAB2AZ65akK/AAAWKttJL+O6AFpbzLMH/DKbThS9qNSR4PN8Qru8tFM+7uC5B7o2/qYKDcpbuaW+ycFRfK3IV6JeL4DsH3eMbqypij3NBraVHACQMP9dwJauOVnZfiCD8u9NqpsEEtf4r86OcLHGMgYEk35IXfmscQAAAKpBmrxJqEFsmUwUTCv//jhAAAGcTkdnbuGEAcgYAMZI82X/+B2dv+0Fk2HUO6M798eqmzsv1o94EI8ui4bbw3e8bYc5xQ/Bkk26jbOnizw17LfGMDadZWNvuDJSxoWuAY0bdQ3KqHPAtDyHgqL/K/ZSNHa7i4WLrdHhPYUeI0f3sdFtfb7nW0kkypQDCxI4pbeRKr1btDThF+LatXPOenAYlXHft0RJjDUA8AAAAEABnttqQr8AABYZAhN5P9RRmG4iEO4yejuRE3PNPREDq0jfDZPP0zP010dsPd0arEn1AAc3v6xIvpLCo1HR/uZxAAAAiUGa3UnhClJlMCFf/jhAAAGlO+89alJBewJgc3YBYLFQyDKxoKmL0f/qKdj19gfz+cw1v/Ur+6ONkRB269j4lkAPuwUonaJMCAhMzyAQoQHeMiSLln8/Ao5BY37Y3LwIW7+PLS35gkwL0tDIYAgUdCdGoTZTxJg+uZ+HJDLxhFnW/oxLoZtbUEGBAAAAkUGa/0nhDomUwU0TCv/+OEAAAaU91fAgAjFEt/tXwqYjYHEzR4HeN/uhhG/5e/hdjcKjbMsvXOWgrEi09wtZ5cw4LP3SfX5/xisJYiB+XL9sT3Whu5CK+Fb1vvHsqCXMNTzvmUepC7Vj4Ns4vJw3vCzW6Ts3D/kB+3M/n8fDB41Ph/vjUn5Y0bJ+1MYHD0Dn4YEAAABWAZ8eakK/AAAWukKcRwJPPIzal5aM96oVNCPxPj5YI3YYocj1f/HwACcVAxFXf/HBGVOdrLgdZAZl63o+gErswcWasQtfVP58JBvTeUS5tDCQUBk3YOAAAAozbW9vdgAAAGxtdmhkAAAAAAAAAAAAAAAAAAAD6AAAGQAAAQAAAQAAAAAAAAAAAAAAAAEAAAAAAAAAAAAAAAAAAAABAAAAAAAAAAAAAAAAAABAAAAAAAAAAAAAAAAAAAAAAAAAAAAAAAAAAAAAAAAAAgAACV10cmFrAAAAXHRraGQAAAADAAAAAAAAAAAAAAABAAAAAAAAGQAAAAAAAAAAAAAAAAAAAAAAAAEAAAAAAAAAAAAAAAAAAAABAAAAAAAAAAAAAAAAAABAAAAAAlgAAAGQAAAAAAAkZWR0cwAAABxlbHN0AAAAAAAAAAEAABkAAAAEAAABAAAAAAjVbWRpYQAAACBtZGhkAAAAAAAAAAAAAAAAAAAyAAABQABVxAAAAAAALWhkbHIAAAAAAAAAAHZpZGUAAAAAAAAAAAAAAABWaWRlb0hhbmRsZXIAAAAIgG1pbmYAAAAUdm1oZAAAAAEAAAAAAAAAAAAAACRkaW5mAAAAHGRyZWYAAAAAAAAAAQAAAAx1cmwgAAAAAQAACEBzdGJsAAAAmHN0c2QAAAAAAAAAAQAAAIhhdmMxAAAAAAAAAAEAAAAAAAAAAAAAAAAAAAAAAlgBkABIAAAASAAAAAAAAAABAAAAAAAAAAAAAAAAAAAAAAAAAAAAAAAAAAAAAAAAAAAAGP//AAAAMmF2Y0MB9AAe/+EAGmf0AB6RmygTBnxPCAAAAwAIAAADAZB4sWywAQAFaOvjxEgAAAAYc3R0cwAAAAAAAAABAAAAoAAAAgAAAAAUc3RzcwAAAAAAAAABAAAAAQAABLBjdHRzAAAAAAAAAJQAAAAFAAAEAAAAAAEAAAYAAAAAAQAAAgAAAAABAAAKAAAAAAEAAAQAAAAAAQAAAAAAAAABAAACAAAAAAEAAAoAAAAAAQAABAAAAAABAAAAAAAAAAEAAAIAAAAAAQAACgAAAAABAAAEAAAAAAEAAAAAAAAAAQAAAgAAAAABAAAKAAAAAAEAAAQAAAAAAQAAAAAAAAABAAACAAAAAAEAAAoAAAAAAQAABAAAAAABAAAAAAAAAAEAAAIAAAAAAQAACgAAAAABAAAEAAAAAAEAAAAAAAAAAQAAAgAAAAABAAAKAAAAAAEAAAQAAAAAAQAAAAAAAAABAAACAAAAAAEAAAoAAAAAAQAABAAAAAABAAAAAAAAAAEAAAIAAAAAAQAABgAAAAABAAACAAAAAAEAAAoAAAAAAQAABAAAAAABAAAAAAAAAAEAAAIAAAAAAQAACgAAAAABAAAEAAAAAAEAAAAAAAAAAQAAAgAAAAABAAAKAAAAAAEAAAQAAAAAAQAAAAAAAAABAAACAAAAAAEAAAoAAAAAAQAABAAAAAABAAAAAAAAAAEAAAIAAAAAAQAACgAAAAABAAAEAAAAAAEAAAAAAAAAAQAAAgAAAAABAAAGAAAAAAEAAAIAAAAAAQAACgAAAAABAAAEAAAAAAEAAAAAAAAAAQAAAgAAAAABAAAKAAAAAAEAAAQAAAAAAQAAAAAAAAABAAACAAAAAAEAAAoAAAAAAQAABAAAAAABAAAAAAAAAAEAAAIAAAAAAQAABgAAAAABAAACAAAAAAEAAAoAAAAAAQAABAAAAAABAAAAAAAAAAEAAAIAAAAAAQAACgAAAAABAAAEAAAAAAEAAAAAAAAAAQAAAgAAAAABAAAIAAAAAAIAAAIAAAAAAQAACgAAAAABAAAEAAAAAAEAAAAAAAAAAQAAAgAAAAABAAAIAAAAAAIAAAIAAAAAAQAACgAAAAABAAAEAAAAAAEAAAAAAAAAAQAAAgAAAAABAAAEAAAAAAEAAAoAAAAAAQAABAAAAAABAAAAAAAAAAEAAAIAAAAAAwAABAAAAAABAAAKAAAAAAEAAAQAAAAAAQAAAAAAAAABAAACAAAAAAEAAAoAAAAAAQAABAAAAAABAAAAAAAAAAEAAAIAAAAAAQAACAAAAAACAAACAAAAAAEAAAoAAAAAAQAABAAAAAABAAAAAAAAAAEAAAIAAAAAAQAACAAAAAACAAACAAAAAAEAAAoAAAAAAQAABAAAAAABAAAAAAAAAAEAAAIAAAAAAQAACAAAAAACAAACAAAAAAEAAAoAAAAAAQAABAAAAAABAAAAAAAAAAEAAAIAAAAAAQAACgAAAAABAAAEAAAAAAEAAAAAAAAAAQAAAgAAAAABAAAGAAAAAAEAAAIAAAAAAQAACAAAAAACAAACAAAAAAEAAAYAAAAAAQAAAgAAAAABAAAKAAAAAAEAAAQAAAAAAQAAAAAAAAABAAACAAAAAAEAAAoAAAAAAQAABAAAAAABAAAAAAAAAAEAAAIAAAAAAQAABgAAAAABAAACAAAAAAEAAAQAAAAAAQAABgAAAAABAAACAAAAABxzdHNjAAAAAAAAAAEAAAABAAAAoAAAAAEAAAKUc3RzegAAAAAAAAAAAAAAoAAABPUAAAC1AAAAoAAAAGoAAABwAAAA2wAAAEcAAACGAAAAPwAAAEUAAAAmAAAAnQAAAEIAAAA+AAAAKwAAAKkAAABNAAAAUgAAAFkAAABtAAAATQAAAEYAAABBAAAAbAAAAEsAAAAsAAAATgAAAHcAAABfAAAAPAAAAEIAAABkAAAAZwAAADIAAAA5AAAASwAAAGQAAABFAAAANQAAAIAAAABAAAAAdgAAADYAAAA/AAAAUgAAAGAAAAA0AAAAKQAAAD0AAABiAAAASAAAAC0AAAA/AAAAhgAAAFEAAAA3AAAAMwAAAKIAAABKAAAAOgAAADYAAACfAAAAQQAAAF4AAABqAAAAPAAAACcAAACSAAAAYAAAACwAAAA9AAAAcQAAAFwAAAAvAAAAPwAAAHoAAAAwAAAAbQAAAEwAAAA8AAAAUgAAAG0AAABTAAAANwAAAEcAAACZAAAANwAAADwAAACgAAAAVgAAAEwAAABXAAAAgAAAAFwAAABMAAAAtAAAAEAAAAAwAAAAVgAAAIYAAABxAAAASgAAAEMAAABDAAAAewAAAGwAAACEAAAApQAAAEkAAAA8AAAARAAAAIcAAABjAAAAUAAAAFIAAAB4AAAAWQAAAE0AAAC8AAAAYQAAAFcAAABTAAAAjQAAAHoAAABaAAAAlAAAAFMAAABnAAAAQgAAAHMAAABLAAAATAAAAHgAAAA4AAAAUAAAAGAAAADAAAAAVwAAAFoAAABzAAAAWgAAAGIAAADBAAAAaQAAAEQAAACwAAAAdQAAANYAAABXAAAASwAAAG0AAADiAAAAbwAAAG4AAAB6AAAArgAAAEQAAACNAAAAlQAAAFoAAAAUc3RjbwAAAAAAAAABAAAAMAAAAGJ1ZHRhAAAAWm1ldGEAAAAAAAAAIWhkbHIAAAAAAAAAAG1kaXJhcHBsAAAAAAAAAAAAAAAALWlsc3QAAAAlqXRvbwAAAB1kYXRhAAAAAQAAAABMYXZmNTcuODMuMTAw\" type=\"video/mp4\" />\n",
              "        </video>"
            ]
          },
          "metadata": {},
          "execution_count": 16
        }
      ],
      "source": [
        "matplotlib.use('Agg') \n",
        "saved_cartpole = mdl.lab3.save_video_of_model(cartpole_model, \"CartPole-v1\")\n",
        "mdl.lab3.play_video(saved_cartpole)"
      ]
    },
    {
      "cell_type": "markdown",
      "metadata": {
        "id": "CSbVNDpaVb3_"
      },
      "source": [
        "How does the agent perform? Could you train it for shorter amounts of time and still perform well? Do you think that training longer would help even more? "
      ]
    },
    {
      "cell_type": "markdown",
      "metadata": {
        "id": "Eu6Mqxc720ST"
      },
      "source": [
        "# Part 2: Training Autonomous Driving Policies in VISTA\n",
        "Autonomous control has traditionally be dominated by algorithms that explicitly decompose individual aspects of the control pipeline. For example, in autonomous driving, traditional methods work by first detecting road and lane boundaries, and then using path planning and rule-based methods to derive a control policy. Deep learning offers something very different -- the possibility of optimizing all these steps simultaneously, learning control end-to-end directly from raw sensory inputs.\n",
        "\n",
        "**You will explore the power of deep learning to learn autonomous control policies that are trained *end-to-end, directly from raw sensory data, and entirely within a simulated world*.**\n",
        "\n",
        "We will use the data-driven simulation engine [VISTA](https://ieeexplore.ieee.org/stamp/stamp.jsp?arnumber=8957584&tag=1), which uses techniques in computer vision to synthesize new photorealistic trajectories and driving viewpoints, that are still consistent with the world's appearance and fall within the envelope of a real driving scene. This is a powerful approach -- we can synthesize data that is photorealistic, grounded in the real world, and then use this data for training and testing autonomous vehicle control policies within this simulator.\n",
        "\n",
        "In this part of the lab, you will use reinforcement lerning to build a self-driving agent with a neural network-based controller trained on RGB camera data. We will train the self-driving agent for the task of lane following. Beyond this data modality and control task, VISTA also supports [different data modalities](https://arxiv.org/pdf/2111.12083.pdf) (such as LiDAR data) and [different learning tasks](https://arxiv.org/pdf/2111.12137.pdf) (such as multi-car interactions).\n",
        "<p align=\"center\">\n",
        "<img src=\"https://raw.githubusercontent.com/aamini/introtodeeplearning/master/lab3/img/vista_overview.png\" width=\"600\"/>\n",
        "</p>\n",
        "\n",
        "\n",
        "You will put your agent to the test in the VISTA environment, and potentially, on board a full-scale autonomous vehicle! Specifically, as part of the MIT lab competitions, high-performing agents -- evaluated based on the maximum distance they can travel without crashing -- will have the opportunity to be put to the ***real*** test onboard a full-scale autonomous vehicle!!! \n",
        "\n",
        "We start by installing dependencies. This includes installing the VISTA package itself."
      ]
    },
    {
      "cell_type": "code",
      "source": [
        "!pip install --upgrade git+https://github.com/vista-simulator/vista-6s191.git"
      ],
      "metadata": {
        "id": "WKWcagMpRLIB",
        "outputId": "66096d49-25e2-4001-a283-4ddc6068107f",
        "colab": {
          "base_uri": "https://localhost:8080/"
        }
      },
      "execution_count": 24,
      "outputs": [
        {
          "output_type": "stream",
          "name": "stdout",
          "text": [
            "Looking in indexes: https://pypi.org/simple, https://us-python.pkg.dev/colab-wheels/public/simple/\n",
            "Collecting git+https://github.com/vista-simulator/vista-6s191.git\n",
            "  Cloning https://github.com/vista-simulator/vista-6s191.git to /tmp/pip-req-build-63llu34q\n",
            "  Running command git clone -q https://github.com/vista-simulator/vista-6s191.git /tmp/pip-req-build-63llu34q\n"
          ]
        }
      ]
    },
    {
      "cell_type": "code",
      "source": [
        "import vista\n",
        "from vista.utils import logging\n",
        "logging.setLevel(logging.ERROR)"
      ],
      "metadata": {
        "id": "ByV6c5GKTgHq"
      },
      "execution_count": 25,
      "outputs": []
    },
    {
      "cell_type": "markdown",
      "metadata": {
        "id": "70Vpby5VJ9Bp"
      },
      "source": [
        "VISTA provides some documentation which will be very helpful to completing this lab. You can always use the `?vista` command to access the package documentation."
      ]
    },
    {
      "cell_type": "code",
      "source": [
        "### Access documentation for VISTA\n",
        "### Run ?vista.<[name of module or function]>\n",
        "?vista.Display "
      ],
      "metadata": {
        "id": "-RTw0OK4nTYi"
      },
      "execution_count": 26,
      "outputs": []
    },
    {
      "cell_type": "markdown",
      "source": [
        "## 3.6 Create an environment in VISTA\n",
        "\n",
        "Environments in VISTA are based on and built from human-collected driving *traces*. A trace is the data from a single driving run. In this case we'll be working with RGB camera data, from the viewpoint of the driver looking out at the road: the camera collects this data as the car drives around!\n",
        "\n",
        "We will start by accessing a trace. We use that trace to instantiate an environment within VISTA. This is our `World` and defines the environment we will use for reinforcement learning. The trace itself helps to define a space for the environment; with VISTA, we can use the trace to generate new photorealistic viewpoints anywhere within that space. This provides valuable new training data as well as a robust testing environment.\n",
        "\n",
        "The simulated environment of VISTA will serve as our training ground and testbed for reinforcement learning. We also define an `Agent` -- a car -- that will actually move around in the environmnet, and make and carry out *actions* in this world. Because this is an entirely simulated environment, our car agent will also be simulated!\n",
        "\n"
      ],
      "metadata": {
        "id": "XauFMMZjnYxn"
      }
    },
    {
      "cell_type": "code",
      "execution_count": 27,
      "metadata": {
        "scrolled": true,
        "id": "JrTpTBJsJ9Bp",
        "outputId": "f0e22084-fec3-4d4b-cec9-2ca761cfe3d9",
        "colab": {
          "base_uri": "https://localhost:8080/",
          "height": 1000
        }
      },
      "outputs": [
        {
          "output_type": "stream",
          "name": "stdout",
          "text": [
            "Unzipping data...\n",
            "Done downloading and unzipping data!\n"
          ]
        },
        {
          "output_type": "error",
          "ename": "GLError",
          "evalue": "ignored",
          "traceback": [
            "\u001b[0;31m---------------------------------------------------------------------------\u001b[0m",
            "\u001b[0;31mGLError\u001b[0m                                   Traceback (most recent call last)",
            "\u001b[0;32m<ipython-input-27-4568a7e313fe>\u001b[0m in \u001b[0;36m<module>\u001b[0;34m()\u001b[0m\n\u001b[1;32m     29\u001b[0m \u001b[0;34m\u001b[0m\u001b[0m\n\u001b[1;32m     30\u001b[0m \u001b[0;31m# Create a camera on the car for synthesizing the sensor data that we can use to train with!\u001b[0m\u001b[0;34m\u001b[0m\u001b[0;34m\u001b[0m\u001b[0;34m\u001b[0m\u001b[0m\n\u001b[0;32m---> 31\u001b[0;31m \u001b[0mcamera\u001b[0m \u001b[0;34m=\u001b[0m \u001b[0mcar\u001b[0m\u001b[0;34m.\u001b[0m\u001b[0mspawn_camera\u001b[0m\u001b[0;34m(\u001b[0m\u001b[0mconfig\u001b[0m\u001b[0;34m=\u001b[0m\u001b[0;34m{\u001b[0m\u001b[0;34m'size'\u001b[0m\u001b[0;34m:\u001b[0m \u001b[0;34m(\u001b[0m\u001b[0;36m200\u001b[0m\u001b[0;34m,\u001b[0m \u001b[0;36m320\u001b[0m\u001b[0;34m)\u001b[0m\u001b[0;34m}\u001b[0m\u001b[0;34m)\u001b[0m\u001b[0;34m\u001b[0m\u001b[0;34m\u001b[0m\u001b[0m\n\u001b[0m\u001b[1;32m     32\u001b[0m \u001b[0;34m\u001b[0m\u001b[0m\n\u001b[1;32m     33\u001b[0m \u001b[0;31m# Define a rendering display so we can visualize the simulated car camera stream and also\u001b[0m\u001b[0;34m\u001b[0m\u001b[0;34m\u001b[0m\u001b[0;34m\u001b[0m\u001b[0m\n",
            "\u001b[0;32m/usr/local/lib/python3.7/dist-packages/vista/entities/agents/Car.py\u001b[0m in \u001b[0;36mspawn_camera\u001b[0;34m(self, config)\u001b[0m\n\u001b[1;32m    116\u001b[0m         \u001b[0mname\u001b[0m \u001b[0;34m=\u001b[0m \u001b[0mconfig\u001b[0m\u001b[0;34m.\u001b[0m\u001b[0mget\u001b[0m\u001b[0;34m(\u001b[0m\u001b[0;34m'name'\u001b[0m\u001b[0;34m,\u001b[0m \u001b[0;32mNone\u001b[0m\u001b[0;34m)\u001b[0m\u001b[0;34m\u001b[0m\u001b[0;34m\u001b[0m\u001b[0m\n\u001b[1;32m    117\u001b[0m         \u001b[0mlogging\u001b[0m\u001b[0;34m.\u001b[0m\u001b[0minfo\u001b[0m\u001b[0;34m(\u001b[0m\u001b[0;34mf'Spawn a new camera {name} in car ({self.id})'\u001b[0m\u001b[0;34m)\u001b[0m\u001b[0;34m\u001b[0m\u001b[0;34m\u001b[0m\u001b[0m\n\u001b[0;32m--> 118\u001b[0;31m         \u001b[0mcam\u001b[0m \u001b[0;34m=\u001b[0m \u001b[0mCamera\u001b[0m\u001b[0;34m(\u001b[0m\u001b[0mattach_to\u001b[0m\u001b[0;34m=\u001b[0m\u001b[0mself\u001b[0m\u001b[0;34m,\u001b[0m \u001b[0mconfig\u001b[0m\u001b[0;34m=\u001b[0m\u001b[0mconfig\u001b[0m\u001b[0;34m)\u001b[0m\u001b[0;34m\u001b[0m\u001b[0;34m\u001b[0m\u001b[0m\n\u001b[0m\u001b[1;32m    119\u001b[0m         \u001b[0mself\u001b[0m\u001b[0;34m.\u001b[0m\u001b[0m_sensors\u001b[0m\u001b[0;34m.\u001b[0m\u001b[0mappend\u001b[0m\u001b[0;34m(\u001b[0m\u001b[0mcam\u001b[0m\u001b[0;34m)\u001b[0m\u001b[0;34m\u001b[0m\u001b[0;34m\u001b[0m\u001b[0m\n\u001b[1;32m    120\u001b[0m \u001b[0;34m\u001b[0m\u001b[0m\n",
            "\u001b[0;32m/usr/local/lib/python3.7/dist-packages/vista/entities/sensors/Camera.py\u001b[0m in \u001b[0;36m__init__\u001b[0;34m(self, attach_to, config)\u001b[0m\n\u001b[1;32m     68\u001b[0m         \u001b[0;32mif\u001b[0m \u001b[0mself\u001b[0m\u001b[0;34m.\u001b[0m\u001b[0m_config\u001b[0m\u001b[0;34m.\u001b[0m\u001b[0mget\u001b[0m\u001b[0;34m(\u001b[0m\u001b[0;34m'use_synthesizer'\u001b[0m\u001b[0;34m,\u001b[0m \u001b[0;32mTrue\u001b[0m\u001b[0;34m)\u001b[0m\u001b[0;34m:\u001b[0m\u001b[0;34m\u001b[0m\u001b[0;34m\u001b[0m\u001b[0m\n\u001b[1;32m     69\u001b[0m             self._view_synthesis: ViewSynthesis = ViewSynthesis(\n\u001b[0;32m---> 70\u001b[0;31m                 self._virtual_cam, self._config)\n\u001b[0m\u001b[1;32m     71\u001b[0m         \u001b[0;32melse\u001b[0m\u001b[0;34m:\u001b[0m\u001b[0;34m\u001b[0m\u001b[0;34m\u001b[0m\u001b[0m\n\u001b[1;32m     72\u001b[0m             \u001b[0mself\u001b[0m\u001b[0;34m.\u001b[0m\u001b[0m_view_synthesis\u001b[0m \u001b[0;34m=\u001b[0m \u001b[0;32mNone\u001b[0m\u001b[0;34m\u001b[0m\u001b[0;34m\u001b[0m\u001b[0m\n",
            "\u001b[0;32m/usr/local/lib/python3.7/dist-packages/vista/entities/sensors/camera_utils/ViewSynthesis.py\u001b[0m in \u001b[0;36m__init__\u001b[0;34m(self, camera_param, config, init_with_bg_mesh)\u001b[0m\n\u001b[1;32m     54\u001b[0m         \u001b[0;31m# Renderer and scene\u001b[0m\u001b[0;34m\u001b[0m\u001b[0;34m\u001b[0m\u001b[0;34m\u001b[0m\u001b[0m\n\u001b[1;32m     55\u001b[0m         self._renderer = pyrender.OffscreenRenderer(\n\u001b[0;32m---> 56\u001b[0;31m             self._camera_param.get_width(), self._camera_param.get_height())\n\u001b[0m\u001b[1;32m     57\u001b[0m         self._scene = pyrender.Scene(ambient_light=[1., 1., 1.],\n\u001b[1;32m     58\u001b[0m                                      bg_color=[0, 0, 0])\n",
            "\u001b[0;32m/usr/local/lib/python3.7/dist-packages/pyrender/offscreen.py\u001b[0m in \u001b[0;36m__init__\u001b[0;34m(self, viewport_width, viewport_height, point_size)\u001b[0m\n\u001b[1;32m     29\u001b[0m         \u001b[0mself\u001b[0m\u001b[0;34m.\u001b[0m\u001b[0m_platform\u001b[0m \u001b[0;34m=\u001b[0m \u001b[0;32mNone\u001b[0m\u001b[0;34m\u001b[0m\u001b[0;34m\u001b[0m\u001b[0m\n\u001b[1;32m     30\u001b[0m         \u001b[0mself\u001b[0m\u001b[0;34m.\u001b[0m\u001b[0m_renderer\u001b[0m \u001b[0;34m=\u001b[0m \u001b[0;32mNone\u001b[0m\u001b[0;34m\u001b[0m\u001b[0;34m\u001b[0m\u001b[0m\n\u001b[0;32m---> 31\u001b[0;31m         \u001b[0mself\u001b[0m\u001b[0;34m.\u001b[0m\u001b[0m_create\u001b[0m\u001b[0;34m(\u001b[0m\u001b[0;34m)\u001b[0m\u001b[0;34m\u001b[0m\u001b[0;34m\u001b[0m\u001b[0m\n\u001b[0m\u001b[1;32m     32\u001b[0m \u001b[0;34m\u001b[0m\u001b[0m\n\u001b[1;32m     33\u001b[0m     \u001b[0;34m@\u001b[0m\u001b[0mproperty\u001b[0m\u001b[0;34m\u001b[0m\u001b[0;34m\u001b[0m\u001b[0m\n",
            "\u001b[0;32m/usr/local/lib/python3.7/dist-packages/pyrender/offscreen.py\u001b[0m in \u001b[0;36m_create\u001b[0;34m(self)\u001b[0m\n\u001b[1;32m    147\u001b[0m                 \u001b[0mos\u001b[0m\u001b[0;34m.\u001b[0m\u001b[0menviron\u001b[0m\u001b[0;34m[\u001b[0m\u001b[0;34m'PYOPENGL_PLATFORM'\u001b[0m\u001b[0;34m]\u001b[0m\u001b[0;34m\u001b[0m\u001b[0;34m\u001b[0m\u001b[0m\n\u001b[1;32m    148\u001b[0m             ))\n\u001b[0;32m--> 149\u001b[0;31m         \u001b[0mself\u001b[0m\u001b[0;34m.\u001b[0m\u001b[0m_platform\u001b[0m\u001b[0;34m.\u001b[0m\u001b[0minit_context\u001b[0m\u001b[0;34m(\u001b[0m\u001b[0;34m)\u001b[0m\u001b[0;34m\u001b[0m\u001b[0;34m\u001b[0m\u001b[0m\n\u001b[0m\u001b[1;32m    150\u001b[0m         \u001b[0mself\u001b[0m\u001b[0;34m.\u001b[0m\u001b[0m_platform\u001b[0m\u001b[0;34m.\u001b[0m\u001b[0mmake_current\u001b[0m\u001b[0;34m(\u001b[0m\u001b[0;34m)\u001b[0m\u001b[0;34m\u001b[0m\u001b[0;34m\u001b[0m\u001b[0m\n\u001b[1;32m    151\u001b[0m         \u001b[0mself\u001b[0m\u001b[0;34m.\u001b[0m\u001b[0m_renderer\u001b[0m \u001b[0;34m=\u001b[0m \u001b[0mRenderer\u001b[0m\u001b[0;34m(\u001b[0m\u001b[0mself\u001b[0m\u001b[0;34m.\u001b[0m\u001b[0mviewport_width\u001b[0m\u001b[0;34m,\u001b[0m \u001b[0mself\u001b[0m\u001b[0;34m.\u001b[0m\u001b[0mviewport_height\u001b[0m\u001b[0;34m)\u001b[0m\u001b[0;34m\u001b[0m\u001b[0;34m\u001b[0m\u001b[0m\n",
            "\u001b[0;32m/usr/local/lib/python3.7/dist-packages/pyrender/platforms/egl.py\u001b[0m in \u001b[0;36minit_context\u001b[0;34m(self)\u001b[0m\n\u001b[1;32m    190\u001b[0m \u001b[0;34m\u001b[0m\u001b[0m\n\u001b[1;32m    191\u001b[0m         \u001b[0;31m# Make it current\u001b[0m\u001b[0;34m\u001b[0m\u001b[0;34m\u001b[0m\u001b[0;34m\u001b[0m\u001b[0m\n\u001b[0;32m--> 192\u001b[0;31m         \u001b[0mself\u001b[0m\u001b[0;34m.\u001b[0m\u001b[0mmake_current\u001b[0m\u001b[0;34m(\u001b[0m\u001b[0;34m)\u001b[0m\u001b[0;34m\u001b[0m\u001b[0;34m\u001b[0m\u001b[0m\n\u001b[0m\u001b[1;32m    193\u001b[0m \u001b[0;34m\u001b[0m\u001b[0m\n\u001b[1;32m    194\u001b[0m     \u001b[0;32mdef\u001b[0m \u001b[0mmake_current\u001b[0m\u001b[0;34m(\u001b[0m\u001b[0mself\u001b[0m\u001b[0;34m)\u001b[0m\u001b[0;34m:\u001b[0m\u001b[0;34m\u001b[0m\u001b[0;34m\u001b[0m\u001b[0m\n",
            "\u001b[0;32m/usr/local/lib/python3.7/dist-packages/pyrender/platforms/egl.py\u001b[0m in \u001b[0;36mmake_current\u001b[0;34m(self)\u001b[0m\n\u001b[1;32m    196\u001b[0m         assert eglMakeCurrent(\n\u001b[1;32m    197\u001b[0m             \u001b[0mself\u001b[0m\u001b[0;34m.\u001b[0m\u001b[0m_egl_display\u001b[0m\u001b[0;34m,\u001b[0m \u001b[0mEGL_NO_SURFACE\u001b[0m\u001b[0;34m,\u001b[0m \u001b[0mEGL_NO_SURFACE\u001b[0m\u001b[0;34m,\u001b[0m\u001b[0;34m\u001b[0m\u001b[0;34m\u001b[0m\u001b[0m\n\u001b[0;32m--> 198\u001b[0;31m             \u001b[0mself\u001b[0m\u001b[0;34m.\u001b[0m\u001b[0m_egl_context\u001b[0m\u001b[0;34m\u001b[0m\u001b[0;34m\u001b[0m\u001b[0m\n\u001b[0m\u001b[1;32m    199\u001b[0m         )\n\u001b[1;32m    200\u001b[0m \u001b[0;34m\u001b[0m\u001b[0m\n",
            "\u001b[0;32m/usr/local/lib/python3.7/dist-packages/OpenGL/error.py\u001b[0m in \u001b[0;36mglCheckError\u001b[0;34m(self, result, baseOperation, cArguments, *args)\u001b[0m\n\u001b[1;32m    230\u001b[0m                         \u001b[0mresult\u001b[0m\u001b[0;34m,\u001b[0m\u001b[0;34m\u001b[0m\u001b[0;34m\u001b[0m\u001b[0m\n\u001b[1;32m    231\u001b[0m                         \u001b[0mcArguments\u001b[0m \u001b[0;34m=\u001b[0m \u001b[0mcArguments\u001b[0m\u001b[0;34m,\u001b[0m\u001b[0;34m\u001b[0m\u001b[0;34m\u001b[0m\u001b[0m\n\u001b[0;32m--> 232\u001b[0;31m                         \u001b[0mbaseOperation\u001b[0m \u001b[0;34m=\u001b[0m \u001b[0mbaseOperation\u001b[0m\u001b[0;34m,\u001b[0m\u001b[0;34m\u001b[0m\u001b[0;34m\u001b[0m\u001b[0m\n\u001b[0m\u001b[1;32m    233\u001b[0m                     )\n\u001b[1;32m    234\u001b[0m                 \u001b[0;32mreturn\u001b[0m \u001b[0mresult\u001b[0m\u001b[0;34m\u001b[0m\u001b[0;34m\u001b[0m\u001b[0m\n",
            "\u001b[0;31mGLError\u001b[0m: GLError(\n\terr = 12290,\n\tbaseOperation = eglMakeCurrent,\n\tcArguments = (\n\t\t<OpenGL._opaque.EGLDisplay_pointer object at 0x7f05c6a43290>,\n\t\t<OpenGL._opaque.EGLSurface_pointer object at 0x7f05cc5da4d0>,\n\t\t<OpenGL._opaque.EGLSurface_pointer object at 0x7f05cc5da4d0>,\n\t\t<OpenGL._opaque.EGLContext_pointer object at 0x7f05c6a43560>,\n\t),\n\tresult = 0\n)"
          ]
        }
      ],
      "source": [
        "# Download and extract the data for vista (auto-skip if already downloaded)\n",
        "!wget -nc -q --show-progress https://www.dropbox.com/s/62pao4mipyzk3xu/vista_traces.zip\n",
        "print(\"Unzipping data...\")\n",
        "!unzip -o -q vista_traces.zip\n",
        "print(\"Done downloading and unzipping data!\")\n",
        "\n",
        "trace_root = \"./vista_traces\"\n",
        "trace_path = [\n",
        "    \"20210726-154641_lexus_devens_center\", \n",
        "    \"20210726-155941_lexus_devens_center_reverse\", \n",
        "    \"20210726-184624_lexus_devens_center\", \n",
        "    \"20210726-184956_lexus_devens_center_reverse\", \n",
        "]\n",
        "trace_path = [os.path.join(trace_root, p) for p in trace_path]\n",
        "\n",
        "# Create a virtual world with VISTA, the world is defined by a series of data traces\n",
        "world = vista.World(trace_path, trace_config={'road_width': 4})\n",
        "\n",
        "# Create a car in our virtual world. The car will be able to step and take different \n",
        "#   control actions. As the car moves, its sensors will simulate any changes it environment\n",
        "car = world.spawn_agent(\n",
        "    config={\n",
        "        'length': 5.,\n",
        "        'width': 2.,\n",
        "        'wheel_base': 2.78,\n",
        "        'steering_ratio': 14.7,\n",
        "        'lookahead_road': True\n",
        "    })\n",
        "\n",
        "# Create a camera on the car for synthesizing the sensor data that we can use to train with! \n",
        "camera = car.spawn_camera(config={'size': (200, 320)})\n",
        "\n",
        "# Define a rendering display so we can visualize the simulated car camera stream and also \n",
        "#   get see its physical location with respect to the road in its environment. \n",
        "display = vista.Display(world, display_config={\"gui_scale\": 2, \"vis_full_frame\": False})\n",
        "\n",
        "# Define a simple helper function that allows us to reset VISTA and the rendering display\n",
        "def vista_reset():\n",
        "    world.reset()\n",
        "    display.reset()\n",
        "vista_reset()"
      ]
    },
    {
      "cell_type": "markdown",
      "source": [
        "If successful, you should see a blank black screen at this point. Your rendering display has  been initialized."
      ],
      "metadata": {
        "id": "aa3sA9FKndIx"
      }
    },
    {
      "cell_type": "markdown",
      "source": [
        "## 3.7 Our virtual agent: the car\n",
        "\n",
        "Our goal is to learn a control policy for our agent, our (hopefully) autonomous vehicle, end-to-end directly from RGB camera sensory input. As in Cartpole, we need to define how our virtual agent will interact with its environment.\n",
        "\n",
        "### Define agent's action functions\n",
        "In the case of driving, the car agent can act -- taking a step in the VISTA environment -- according to a given control command. This amounts to moving with a desired speed and a desired *curvature*, which reflects the car's turn radius. Curvature has units $\\frac{1}{meter}$. So, if a car is traversing a circle of radius $r$ meters, then it is turning with a curvature $\\frac{1}{r}$. The curvature is therefore correlated with the car's steering wheel angle, which actually controls its turn radius. Let's define the car agent's step function to capture the action of moving with a desired speed and desired curvature."
      ],
      "metadata": {
        "id": "rNzwTTwzngQH"
      }
    },
    {
      "cell_type": "code",
      "execution_count": null,
      "metadata": {
        "id": "ZjFecj3WJ9Bp"
      },
      "outputs": [],
      "source": [
        "# First we define a step function, to allow our virtual agent to step \n",
        "# with a given control command through the environment \n",
        "# agent can act with a desired curvature (turning radius, like steering angle)\n",
        "# and desired speed. if either is not provided then this step function will \n",
        "# use whatever the human executed at that time in the real data.\n",
        "\n",
        "def vista_step(curvature=None, speed=None):\n",
        "    # Arguments:\n",
        "    #   curvature: curvature to step with\n",
        "    #   speed: speed to step with\n",
        "    if curvature is None: \n",
        "        curvature = car.trace.f_curvature(car.timestamp)\n",
        "    if speed is None: \n",
        "        speed = car.trace.f_speed(car.timestamp)\n",
        "    \n",
        "    car.step_dynamics(action=np.array([curvature, speed]), dt=1/15.)\n",
        "    car.step_sensors()"
      ]
    },
    {
      "cell_type": "markdown",
      "metadata": {
        "id": "aRmV3GtkJ9Bp"
      },
      "source": [
        "### Inspect driving trajectories in VISTA\n",
        "\n",
        "Recall that our VISTA environment is based off an initial human-collected driving trace. Also, we defined the agent's step function to defer to what the human executed if it is not provided with a desired speed and curvature with which to move.\n",
        "\n",
        "Thus, we can further inspect our environment by using the step function for the driving agent to move through the environment by following the human path. The stepping and iteration will take about 1 iteration per second. We will then observe the data that comes out to see the agent's traversal of the environment."
      ]
    },
    {
      "cell_type": "code",
      "execution_count": null,
      "metadata": {
        "id": "rp8G7eirJ9Bp"
      },
      "outputs": [],
      "source": [
        "import shutil, os, subprocess, cv2\n",
        "\n",
        "# Create a simple helper class that will assist us in storing videos of the render\n",
        "class VideoStream():\n",
        "    def __init__(self):\n",
        "        self.tmp = \"./tmp\"\n",
        "        if os.path.exists(self.tmp) and os.path.isdir(self.tmp):\n",
        "            shutil.rmtree(self.tmp)\n",
        "        os.mkdir(self.tmp)\n",
        "    def write(self, image, index):\n",
        "        cv2.imwrite(os.path.join(self.tmp, f\"{index:04}.png\"), image)\n",
        "    def save(self, fname):\n",
        "        cmd = f\"/usr/bin/ffmpeg -f image2 -i {self.tmp}/%04d.png -crf 0 -y {fname}\"\n",
        "        subprocess.call(cmd, shell=True)\n",
        "        "
      ]
    },
    {
      "cell_type": "code",
      "execution_count": null,
      "metadata": {
        "scrolled": true,
        "id": "MlC5t0dyJ9Bq"
      },
      "outputs": [],
      "source": [
        "## Render and inspect a human trace ##\n",
        "\n",
        "vista_reset()\n",
        "stream = VideoStream()\n",
        "\n",
        "for i in tqdm(range(100)):\n",
        "    vista_step()\n",
        "    \n",
        "    # Render and save the display\n",
        "    vis_img = display.render()\n",
        "    stream.write(vis_img[:, :, ::-1], index=i)\n",
        "    if car.done: \n",
        "        break\n",
        "\n",
        "print(\"Saving trajectory of human following...\")\n",
        "stream.save(\"human_follow.mp4\")      \n",
        "mdl.lab3.play_video(\"human_follow.mp4\")"
      ]
    },
    {
      "cell_type": "markdown",
      "source": [
        "Check out the simulated VISTA environment. What do you notice about the environment, the agent, and the setup of the simulation engine? How could these aspects useful for training models?"
      ],
      "metadata": {
        "id": "SCeRDuqV-bye"
      }
    },
    {
      "cell_type": "markdown",
      "metadata": {
        "id": "CvJCRINbJ9Bq"
      },
      "source": [
        "### Define terminal states: crashing! (oh no)\n",
        "\n",
        "Recall from Cartpole, our training episodes ended when the pole toppled, i.e., the agent crashed and failed. Similarly for training vehicle control policies in VISTA, we have to define what a ***crash*** means. We will define a crash as any time the car moves out of its lane or exceeds its maximum rotation. This will define the end of a training episode."
      ]
    },
    {
      "cell_type": "code",
      "execution_count": null,
      "metadata": {
        "id": "2_6U_VAFJ9Bq"
      },
      "outputs": [],
      "source": [
        "## Define terminal states and crashing conditions ##\n",
        "\n",
        "def check_out_of_lane(car):\n",
        "    distance_from_center = np.abs(car.relative_state.x)\n",
        "    road_width = car.trace.road_width \n",
        "    half_road_width = road_width / 2\n",
        "    return distance_from_center > half_road_width\n",
        "\n",
        "def check_exceed_max_rot(car):\n",
        "    maximal_rotation = np.pi / 10.\n",
        "    current_rotation = np.abs(car.relative_state.yaw)\n",
        "    return current_rotation > maximal_rotation\n",
        "\n",
        "def check_crash(car): \n",
        "    return check_out_of_lane(car) or check_exceed_max_rot(car) or car.done"
      ]
    },
    {
      "cell_type": "markdown",
      "metadata": {
        "id": "YFXUZ8ppJ9Bq"
      },
      "source": [
        "### Quick check: acting with a random control policy\n",
        "\n",
        "At this point, we have (1) an environment; (2) an agent, with a step function. Before we start learning a control policy for our vehicle agent, we start by testing out the behavior of the agent in the virtual world by providing it with a completely random control policy. Naturally we expect that the behavior will not be very robust! Let's take a look."
      ]
    },
    {
      "cell_type": "code",
      "execution_count": null,
      "metadata": {
        "id": "ZIyI5MqwJ9Bq"
      },
      "outputs": [],
      "source": [
        "## Behavior with random control policy ##\n",
        "\n",
        "i = 0\n",
        "num_crashes = 5\n",
        "stream = VideoStream()\n",
        "\n",
        "for _ in range(num_crashes):\n",
        "    vista_reset()\n",
        "    \n",
        "    while not check_crash(car):\n",
        "\n",
        "        # Sample a random curvature (between +/- 1/3), keep speed constant\n",
        "        curvature = np.random.uniform(-1/3, 1/3)\n",
        "\n",
        "        # Step the simulated car with the same action\n",
        "        vista_step(curvature=curvature)\n",
        "\n",
        "        # Render and save the display\n",
        "        vis_img = display.render()\n",
        "        stream.write(vis_img[:, :, ::-1], index=i)\n",
        "        i += 1\n",
        "    \n",
        "    print(f\"Car crashed on step {i}\")\n",
        "    for _ in range(5):\n",
        "        stream.write(vis_img[:, :, ::-1], index=i)\n",
        "        i += 1\n",
        "\n",
        "print(\"Saving trajectory with random policy...\")\n",
        "stream.save(\"random_policy.mp4\")\n",
        "mdl.lab3.play_video(\"random_policy.mp4\")"
      ]
    },
    {
      "cell_type": "markdown",
      "metadata": {
        "id": "OL02qW5vJ9Br"
      },
      "source": [
        "## 3.8 Preparing to learn a control policy: data preprocessing\n",
        "\n",
        "So, hopefully you saw that the random control policy was, indeed, not very robust. Yikes. Our overall goal in this lab is to build a self-driving agent using a neural network controller trained entirely in the simulator VISTA. This means that the data used to train and test the self-driving agent will be supplied by VISTA. As a step towards this, we will do some data preprocessing to make it easier for the network to learn from these visual data.\n",
        "\n",
        "Previously we rendered the data with a display as a quick check that the environment was working properly. For training the agent, we will directly access the car's observations, extract Regions Of Interest (ROI) from those observations, crop them out, and use these crops as training data for our self-driving agent controller. Observe both the full observation and the extracted ROI."
      ]
    },
    {
      "cell_type": "code",
      "execution_count": null,
      "metadata": {
        "id": "4UxX6mk5J9Br"
      },
      "outputs": [],
      "source": [
        "from google.colab.patches import cv2_imshow\n",
        "\n",
        "# Directly access the raw sensor observations of the simulated car\n",
        "vista_reset()\n",
        "full_obs = car.observations[camera.name]\n",
        "cv2_imshow(full_obs)"
      ]
    },
    {
      "cell_type": "code",
      "source": [
        "## ROIs ##\n",
        "\n",
        "# Crop a smaller region of interest (ROI). This is necessary because: \n",
        "#   1. The full observation will have distortions on the edge as the car deviates from the human\n",
        "#   2. A smaller image of the environment will be easier for our model to learn from\n",
        "region_of_interest = camera.camera_param.get_roi()\n",
        "i1, j1, i2, j2 = region_of_interest\n",
        "cropped_obs = full_obs[i1:i2, j1:j2]\n",
        "cv2_imshow(cropped_obs)"
      ],
      "metadata": {
        "id": "KAH-5uxrbkng"
      },
      "execution_count": null,
      "outputs": []
    },
    {
      "cell_type": "markdown",
      "metadata": {
        "id": "znxypklaJ9Br"
      },
      "source": [
        "We will group these steps into some helper functions that we can use during training: \n",
        "1. `preprocess`: takes a full observation as input and returns a preprocessed version. This can include whatever preprocessing steps you would like! For example, ROI extraction, cropping, augmentations, and so on. You are welcome to add and modify this function as you seek to optimize your self-driving agent!\n",
        "2. `grab_and_preprocess`: grab the car's current observation (i.e., image view from its perspective), and then call the `preprocess` function on that observation."
      ]
    },
    {
      "cell_type": "code",
      "execution_count": null,
      "metadata": {
        "id": "7GQY_UwSJ9Br"
      },
      "outputs": [],
      "source": [
        "## Data preprocessing functions ##\n",
        "\n",
        "def preprocess(full_obs):\n",
        "    # Extract ROI\n",
        "    i1, j1, i2, j2 = camera.camera_param.get_roi()\n",
        "    obs = full_obs[i1:i2, j1:j2]\n",
        "    \n",
        "    # Rescale to [0, 1]\n",
        "    obs = obs / 255.\n",
        "    return obs\n",
        "\n",
        "def grab_and_preprocess_obs(car):\n",
        "    full_obs = car.observations[camera.name]\n",
        "    obs = preprocess(full_obs)\n",
        "    return obs"
      ]
    },
    {
      "cell_type": "markdown",
      "metadata": {
        "id": "WAueY4PfJ9Br"
      },
      "source": [
        "## 3.9 Define the self-driving agent and learning algorithm\n",
        "\n",
        "As before, we'll use a neural network to define our agent and output actions that it will take. Fixing the agent's driving speed, we will train this network to predict a curvature -- a continuous value -- that will relate to the car's turn radius. Specifically, define the model to output a prediction of a continuous distribution of curvature, defined by a mean $\\mu$ and standard deviation $\\sigma$. These parameters will define a Normal distribution over curvature.\n",
        "\n",
        "What network architecture do you think would be especially well suited to the task of end-to-end control learning from RGB images? Since our observations are in the form of RGB images, we'll start with a convolutional network. Note that you will be tasked with completing a template CNN architecture for the self-driving car agent -- but you should certainly experiment beyond this template to try to optimize performance!"
      ]
    },
    {
      "cell_type": "code",
      "execution_count": null,
      "metadata": {
        "id": "f-pAQA7zJ9Br"
      },
      "outputs": [],
      "source": [
        "### Define the self-driving agent ###\n",
        "# Note: we start with a template CNN architecture -- experiment away as you \n",
        "#   try to optimize your agent!\n",
        "\n",
        "# Functionally define layers for convenience\n",
        "# All convolutional layers will have ReLu activation\n",
        "act = tf.keras.activations.swish\n",
        "Conv2D = functools.partial(tf.keras.layers.Conv2D, padding='valid', activation=act)\n",
        "Flatten = tf.keras.layers.Flatten\n",
        "Dense = tf.keras.layers.Dense\n",
        "\n",
        "# Defines a CNN for the self-driving agent\n",
        "def create_driving_model():\n",
        "    model = tf.keras.models.Sequential([\n",
        "        # Convolutional layers\n",
        "        # First, 32 5x5 filters and 2x2 stride\n",
        "        Conv2D(filters=32, kernel_size=5, strides=2),\n",
        "\n",
        "        # TODO: define convolutional layers with 48 5x5 filters and 2x2 stride\n",
        "        # Conv2D('''TODO'''),\n",
        "\n",
        "        # TODO: define two convolutional layers with 64 3x3 filters and 2x2 stride\n",
        "        # Conv2D('''TODO'''),\n",
        "\n",
        "        Flatten(),\n",
        "\n",
        "        # Fully connected layer and output\n",
        "        Dense(units=128, activation=act),\n",
        "        \n",
        "        # TODO: define the output dimension of the last Dense layer. \n",
        "        #    Pay attention to the space the agent needs to act in.\n",
        "        #    Remember that this model is outputing a distribution of *continuous* \n",
        "        #    actions, which take a different shape than discrete actions.\n",
        "        #    How many outputs should there be to define a distribution?'''\n",
        "\n",
        "        # Dense('''TODO''')\n",
        "\n",
        "    ])\n",
        "    return model\n",
        "\n",
        "driving_model = create_driving_model()"
      ]
    },
    {
      "cell_type": "markdown",
      "metadata": {
        "id": "hlyL0HL1J9Bs"
      },
      "source": [
        "Now we will define the learing algorithm which will be used to reinforce good behaviors of the agent and discourage bad behaviours. As with Cartpole, we will use a *policy gradient* method that aims to **maximize** the likelihood of actions that result in large rewards. However, there are some key differences. In Cartpole, the agent's action space was discrete: it could only move left or right. In driving, the agent's action space is continuous: the control network is outputting a curvature, which is a continuous variable. We will define a probability distribution, defined by a mean and variance, over this continuous action space to define the possible actions the self-driving agent can take.\n",
        "\n",
        "You will define three functions that reflect these changes and form the core of the the learning algorithm:\n",
        "1. `run_driving_model`: takes an input image, and outputs a prediction of a continuous distribution of curvature. This will take the form of a Normal distribuion and will be defined using TensorFlow probability's [`tfp.distributions.Normal`](https://www.tensorflow.org/probability/api_docs/python/tfp/distributions/Normal) function, so the model's prediction will include both a mean and variance. Operates on an instance `driving_model` defined above.\n",
        "2. `compute_driving_loss`: computes the loss for a prediction that is in the form of a continuous Normal distribution. Recall as in Cartpole, computing the loss involves multiplying the predicted log probabilities by the discounted rewards. Similar to `compute_loss` in Cartpole.\n",
        "\n",
        "The `train_step` function to use the loss function to execute a training step will be the same as we used in Cartpole! This will have to be executed abov in order for the driving agent to train properly."
      ]
    },
    {
      "cell_type": "code",
      "execution_count": null,
      "metadata": {
        "id": "-UWhFhToJ9Bs"
      },
      "outputs": [],
      "source": [
        "## The self-driving learning algorithm ##\n",
        "\n",
        "# hyperparameters\n",
        "max_curvature = 1/8. \n",
        "max_std = 0.1 \n",
        "\n",
        "def run_driving_model(image):\n",
        "    # Arguments:\n",
        "    #   image: an input image\n",
        "    # Returns:\n",
        "    #   pred_dist: predicted distribution of control actions \n",
        "    single_image_input = tf.rank(image) == 3  # missing 4th batch dimension\n",
        "    if single_image_input:\n",
        "        image = tf.expand_dims(image, axis=0)\n",
        "\n",
        "    '''TODO: get the prediction of the model given the current observation.'''    \n",
        "    # distribution = ''' TODO '''\n",
        "\n",
        "    mu, logsigma = tf.split(distribution, 2, axis=1)\n",
        "    mu = max_curvature * tf.tanh(mu) # conversion\n",
        "    sigma = max_std * tf.sigmoid(logsigma) + 0.005 # conversion\n",
        "    \n",
        "    '''TODO: define the predicted distribution of curvature, given the predicted\n",
        "    mean mu and standard deviation sigma. Use a Normal distribution as defined\n",
        "    in TF probability (hint: tfp.distributions)'''\n",
        "    # pred_dist = ''' TODO '''\n",
        "  \n",
        "    return pred_dist\n",
        "\n",
        "\n",
        "def compute_driving_loss(dist, actions, rewards):\n",
        "    # Arguments:\n",
        "    #   logits: network's predictions for actions to take\n",
        "    #   actions: the actions the agent took in an episode\n",
        "    #   rewards: the rewards the agent received in an episode\n",
        "    # Returns:\n",
        "    #   loss\n",
        "    '''TODO: complete the function call to compute the negative log probabilities\n",
        "    of the agent's actions.'''\n",
        "    # neg_logprob = '''TODO'''\n",
        "\n",
        "    '''TODO: scale the negative log probability by the rewards.'''\n",
        "    # loss = tf.reduce_mean('''TODO''')\n",
        "    return loss\n"
      ]
    },
    {
      "cell_type": "markdown",
      "metadata": {
        "id": "fCCMKLaIJ9Bs"
      },
      "source": [
        "## 3.10 Train the self-driving agent\n",
        "\n",
        "We're now all set up to start training our RL algorithm and agent for autonomous driving!\n",
        "\n",
        "We begin be initializing an opitimizer, environment, a new driving agent, and `Memory` buffer. This will be in the first code block. To restart training completely, you will need to re-run this cell to re-initiailize everything.\n",
        "\n",
        "The second code block is the main training script. Here reinforcement learning episodes will be executed by agents in the VISTA environment. Since the self-driving agent starts out with literally zero knowledge of its environment, it can often take a long time to train and achieve stable behavior -- keep this in mind! For convenience, stopping and restarting the second cell will pick up training where you left off.\n",
        "\n",
        "The training block will execute a policy in the environment until the agent crashes. When the agent crashes, the (state, action, reward) triplet `(s,a,r)` of the agent at the end of the episode will be saved into the `Memory` buffer, and then provided as input to the policy gradient loss function. This information will be used to execute optimization within the training step. Memory will be cleared, and we will then do it all over again!\n",
        "\n",
        "Let's run the code block to train our self-driving agent. We will again visualize the evolution of the total reward as a function of training to get a sense of how the agent is learning. **You should reach a reward of at least 100 to get bare minimum stable behavior.**"
      ]
    },
    {
      "cell_type": "code",
      "source": [
        "## Training parameters and initialization ##\n",
        "## Re-run this cell to restart training from scratch ##\n",
        "\n",
        "''' TODO: Learning rate and optimizer '''\n",
        "# learning_rate = '''TODO'''\n",
        "# optimizer = '''TODO'''\n",
        "\n",
        "# instantiate driving agent\n",
        "vista_reset()\n",
        "driving_model = create_driving_model()\n",
        "# NOTE: the variable driving_model will be used in run_driving_model execution\n",
        "\n",
        "# to track our progress\n",
        "smoothed_reward = mdl.util.LossHistory(smoothing_factor=0.9)\n",
        "plotter = mdl.util.PeriodicPlotter(sec=2, xlabel='Iterations', ylabel='Rewards')\n",
        "\n",
        "# instantiate Memory buffer\n",
        "memory = Memory()"
      ],
      "metadata": {
        "id": "uZGn94sJCtBb"
      },
      "execution_count": null,
      "outputs": []
    },
    {
      "cell_type": "code",
      "execution_count": null,
      "metadata": {
        "scrolled": true,
        "id": "G8GhVvZQJ9Bs"
      },
      "outputs": [],
      "source": [
        "## Driving training! Main training block. ##\n",
        "## Note: stopping and restarting this cell will pick up training where you\n",
        "#        left off. To restart training you need to rerun the cell above as \n",
        "#        well (to re-initialize the model and optimizer)\n",
        "\n",
        "max_batch_size = 300\n",
        "max_reward = float('-inf') # keep track of the maximum reward acheived during training\n",
        "if hasattr(tqdm, '_instances'): tqdm._instances.clear() # clear if it exists\n",
        "for i_episode in range(500):\n",
        "\n",
        "    plotter.plot(smoothed_reward.get())\n",
        "    # Restart the environment\n",
        "    vista_reset()\n",
        "    memory.clear()\n",
        "    observation = grab_and_preprocess_obs(car)\n",
        "\n",
        "    while True:\n",
        "        # TODO: using the car's current observation compute the desired \n",
        "        #  action (curvature) distribution by feeding it into our \n",
        "        #  driving model (use the function you already built to do this!) '''\n",
        "        # curvature_dist = '''TODO'''\n",
        "        \n",
        "        # TODO: sample from the action *distribution* to decide how to step\n",
        "        #   the car in the environment. You may want to check the documentation\n",
        "        #   for tfp.distributions.Normal online. Remember that the sampled action\n",
        "        #   should be a single scalar value after this step.\n",
        "        # curvature_action = '''TODO'''\n",
        "        \n",
        "        # Step the simulated car with the same action\n",
        "        vista_step(curvature_action)\n",
        "        observation = grab_and_preprocess_obs(car)\n",
        "               \n",
        "        # TODO: Compute the reward for this iteration. You define \n",
        "        #   the reward function for this policy, start with something \n",
        "        #   simple - for example, give a reward of 1 if the car did not \n",
        "        #   crash and a reward of 0 if it did crash.\n",
        "        #  reward = '''TODO'''\n",
        "        \n",
        "        # add to memory\n",
        "        memory.add_to_memory(observation, curvature_action, reward)\n",
        "        \n",
        "        # is the episode over? did you crash or do so well that you're done?\n",
        "        if reward == 0.0:\n",
        "            # determine total reward and keep a record of this\n",
        "            total_reward = sum(memory.rewards)\n",
        "            smoothed_reward.append(total_reward)\n",
        "            \n",
        "            # execute training step - remember we don't know anything about how the \n",
        "            #   agent is doing until it has crashed! if the training step is too large \n",
        "            #   we need to sample a mini-batch for this step.\n",
        "            batch_size = min(len(memory), max_batch_size)\n",
        "            i = np.random.choice(len(memory), batch_size, replace=False)\n",
        "            train_step(driving_model, compute_driving_loss, optimizer, \n",
        "                               observations=np.array(memory.observations)[i],\n",
        "                               actions=np.array(memory.actions)[i],\n",
        "                               discounted_rewards = discount_rewards(memory.rewards)[i], \n",
        "                               custom_fwd_fn=run_driving_model)            \n",
        "            # reset the memory\n",
        "            memory.clear()\n",
        "            break"
      ]
    },
    {
      "cell_type": "markdown",
      "metadata": {
        "id": "yevBnJCFJ9Bt"
      },
      "source": [
        "## 3.11 Evaluate the self-driving agent\n",
        "\n",
        "Finally we can put our trained self-driving agent to the test! It will execute autonomous control, in VISTA, based on the learned controller. We will evaluate how well it does based on this distance the car travels without crashing. We await the result..."
      ]
    },
    {
      "cell_type": "code",
      "execution_count": null,
      "metadata": {
        "scrolled": true,
        "id": "DzeswkSnJ9Bt"
      },
      "outputs": [],
      "source": [
        "## Evaluation block!##\n",
        "\n",
        "i_step = 0\n",
        "num_episodes = 5\n",
        "num_reset = 5\n",
        "stream = VideoStream()\n",
        "for i_episode in range(num_episodes):\n",
        "    \n",
        "    # Restart the environment\n",
        "    vista_reset()\n",
        "    observation = grab_and_preprocess_obs(car)\n",
        "    \n",
        "    print(\"rolling out in env\")\n",
        "    episode_step = 0\n",
        "    while not check_crash(car) and episode_step < 100:\n",
        "        # using our observation, choose an action and take it in the environment\n",
        "        curvature_dist = run_driving_model(observation)\n",
        "        curvature = curvature_dist.mean()[0,0]\n",
        "\n",
        "        # Step the simulated car with the same action\n",
        "        vista_step(curvature)\n",
        "        observation = grab_and_preprocess_obs(car)\n",
        "\n",
        "        vis_img = display.render()\n",
        "        stream.write(vis_img[:, :, ::-1], index=i_step)\n",
        "        i_step += 1\n",
        "        episode_step += 1\n",
        "        \n",
        "    for _ in range(num_reset):\n",
        "        stream.write(np.zeros_like(vis_img), index=i_step)\n",
        "        i_step += 1\n",
        "        \n",
        "print(f\"Average reward: {(i_step - (num_reset*num_episodes)) / num_episodes}\")\n",
        "\n",
        "print(\"Saving trajectory with trained policy...\")\n",
        "stream.save(\"trained_policy.mp4\")\n",
        "mdl.lab3.play_video(\"trained_policy.mp4\")"
      ]
    },
    {
      "cell_type": "markdown",
      "source": [
        "Congratulations for making it to this point and for training an autonomous vehicle control policy using deep neural networks and reinforcement learning! Now, with an eye towards the lab competition, think about what you can change -- about the controller model, your data, your learning algorithm... -- to improve performance even further. Below in 3.11 we have some suggestions to get you started. We hope to see your self-driving control policy put to the ***real*** test!"
      ],
      "metadata": {
        "id": "Dq6TZoYvoPyy"
      }
    },
    {
      "cell_type": "markdown",
      "source": [
        "## 3.11 Conclusion and submission information\n",
        "\n",
        "That's it! Congratulations on training two RL agents and putting them to the test! We encourage you to consider the following:\n",
        "\n",
        "* How does each agent perform?\n",
        "* How does the complexity of the self-driving car agent compare to CartPole, and how does it alter the rate at which the agent learns and its performance? \n",
        "* What are some things you could change about the agent or the learning process to potentially improve performance?\n",
        "\n",
        "Try to optimize your **self-driving car** model and algorithm to achieve improved performance.  **MIT students and affiliates will be eligible for prizes during the IAP offering. The prize for this lab includes an opportunity to test your model and algorithm onboard a full-scale autonomous vehicle in the real world.**\n",
        "\n",
        "To get you started, here are some suggested ways to improve your self-driving car model and/or RL algorithm:\n",
        "\n",
        "* different model architectures, for example recurrent models or Transformers with self-attention;\n",
        "* data augmentation and improved pre-processing;\n",
        "* different data modalities from different sensor types. VISTA also supports [LiDAR](https://driving.ca/car-culture/auto-tech/what-is-lidar-and-how-is-it-used-in-cars) and [event-based camera](https://arxiv.org/pdf/1804.01310.pdf) data, with a [new VISTA paper](https://arxiv.org/pdf/2111.12083.pdf) describing this. If you are interested in this, please contact Alexander Amini (amini@mit.edu)!\n",
        "* improved reinforcement learning algorithms, such as [PPO](https://paperswithcode.com/paper/proximal-policy-optimization-algorithms), [TRPO](https://paperswithcode.com/method/trpo), or [A3C](https://paperswithcode.com/method/a3c);\n",
        "* different reward functions for reinforcemnt learning, for example penalizing the car's distance to the lane center rather than just whether or not it crashed;\n",
        "* [Guided Policy Learning (GPL)](https://rll.berkeley.edu/gps/). Not reinforcement learning, but a powerful algorithm to leverage human data to provide additional supervision the learning task.\n",
        "\n",
        "To enter the competition, MIT students and affiliates should upload the following to the course Canvas:\n",
        "\n",
        "* Jupyter notebook with the code you used to generate your results, **with the self-driving car agent training fully executed**;\n",
        "* **saved video of your self-driving agent executing a trajectory in VISTA**;\n",
        "* printout / recording of the **maximum distance traveled by your agent** before crashing;\n",
        "* **text description and/or visual diagram** of the architecture, settings, algorithm, hyperparameters, etc you used to generate your result -- if there are any additional or interesting modifications you made to the template code, please include these in your description;\n",
        "* finally, **separate `.py` script** containing the code for your model, as well as **a function call to load your model and the final trained weights**. This will mean you will have to access and load the weights of your trained model in this script;\n",
        "\n",
        "We will evaluate your entries based on the above components, as well as potential real-time evaluation of top candidates in new VISTA environments with snow / winter traces. The link for these traces is [here](https://www.dropbox.com/s/3wxyvjfquloonqc/vista_traces_snow.zip). You are welcome to download this data and evaluate your models on it as well.\n",
        "\n",
        "Good luck!\n",
        "\n",
        "<p align=\"center\">\n",
        "<img src=\"https://media.giphy.com/media/H7rpSYHRyYgamxQNqw/giphy-downsized-large.gif\" width=\"700\"/>\n",
        "</p>"
      ],
      "metadata": {
        "id": "6c6uO21GoRfw"
      }
    },
    {
      "cell_type": "code",
      "source": [
        ""
      ],
      "metadata": {
        "id": "ac8FNK-x8gNn"
      },
      "execution_count": null,
      "outputs": []
    }
  ],
  "metadata": {
    "accelerator": "GPU",
    "colab": {
      "collapsed_sections": [
        "WoXYKhfZMHiw",
        "UT7YL8KBJIIc",
        "Eu6Mqxc720ST"
      ],
      "name": "RL.ipynb",
      "provenance": [],
      "include_colab_link": true
    },
    "kernelspec": {
      "display_name": "Python 3",
      "language": "python",
      "name": "python3"
    },
    "language_info": {
      "codemirror_mode": {
        "name": "ipython",
        "version": 3
      },
      "file_extension": ".py",
      "mimetype": "text/x-python",
      "name": "python",
      "nbconvert_exporter": "python",
      "pygments_lexer": "ipython3",
      "version": "3.9.7"
    }
  },
  "nbformat": 4,
  "nbformat_minor": 0
}